{
 "cells": [
  {
   "cell_type": "code",
   "execution_count": 1,
   "id": "58d53407",
   "metadata": {},
   "outputs": [],
   "source": [
    "x = 10 \n",
    "y = 20 "
   ]
  },
  {
   "cell_type": "code",
   "execution_count": 2,
   "id": "118f104e",
   "metadata": {},
   "outputs": [
    {
     "data": {
      "text/plain": [
       "30"
      ]
     },
     "execution_count": 2,
     "metadata": {},
     "output_type": "execute_result"
    }
   ],
   "source": [
    "x + y "
   ]
  },
  {
   "cell_type": "code",
   "execution_count": 3,
   "id": "47cbb322",
   "metadata": {},
   "outputs": [
    {
     "data": {
      "text/plain": [
       "-10"
      ]
     },
     "execution_count": 3,
     "metadata": {},
     "output_type": "execute_result"
    }
   ],
   "source": [
    "x - y "
   ]
  },
  {
   "cell_type": "code",
   "execution_count": 4,
   "id": "4ba3f262",
   "metadata": {},
   "outputs": [
    {
     "data": {
      "text/plain": [
       "200"
      ]
     },
     "execution_count": 4,
     "metadata": {},
     "output_type": "execute_result"
    }
   ],
   "source": [
    "x * y "
   ]
  },
  {
   "cell_type": "code",
   "execution_count": 5,
   "id": "1326ade7",
   "metadata": {},
   "outputs": [
    {
     "data": {
      "text/plain": [
       "2.0"
      ]
     },
     "execution_count": 5,
     "metadata": {},
     "output_type": "execute_result"
    }
   ],
   "source": [
    "y / x "
   ]
  },
  {
   "cell_type": "code",
   "execution_count": 6,
   "id": "0db98aa8",
   "metadata": {},
   "outputs": [
    {
     "data": {
      "text/plain": [
       "2"
      ]
     },
     "execution_count": 6,
     "metadata": {},
     "output_type": "execute_result"
    }
   ],
   "source": [
    "y // x "
   ]
  },
  {
   "cell_type": "code",
   "execution_count": 7,
   "id": "905f36b5",
   "metadata": {},
   "outputs": [
    {
     "data": {
      "text/plain": [
       "10240000000000"
      ]
     },
     "execution_count": 7,
     "metadata": {},
     "output_type": "execute_result"
    }
   ],
   "source": [
    "pow(y , x)"
   ]
  },
  {
   "cell_type": "code",
   "execution_count": 8,
   "id": "cb2cfcc1",
   "metadata": {},
   "outputs": [
    {
     "data": {
      "text/plain": [
       "9"
      ]
     },
     "execution_count": 8,
     "metadata": {},
     "output_type": "execute_result"
    }
   ],
   "source": [
    "pow(3,2)"
   ]
  },
  {
   "cell_type": "code",
   "execution_count": 9,
   "id": "20529cf3",
   "metadata": {},
   "outputs": [
    {
     "data": {
      "text/plain": [
       "9"
      ]
     },
     "execution_count": 9,
     "metadata": {},
     "output_type": "execute_result"
    }
   ],
   "source": [
    "3 ** 2 "
   ]
  },
  {
   "cell_type": "code",
   "execution_count": null,
   "id": "951b53ad",
   "metadata": {},
   "outputs": [],
   "source": [
    "# logical operators \n",
    "and \n",
    "or \n",
    "in "
   ]
  },
  {
   "cell_type": "code",
   "execution_count": 10,
   "id": "92a0ba4c",
   "metadata": {},
   "outputs": [
    {
     "data": {
      "text/plain": [
       "True"
      ]
     },
     "execution_count": 10,
     "metadata": {},
     "output_type": "execute_result"
    }
   ],
   "source": [
    "True and True "
   ]
  },
  {
   "cell_type": "code",
   "execution_count": 11,
   "id": "ea466d91",
   "metadata": {},
   "outputs": [
    {
     "data": {
      "text/plain": [
       "False"
      ]
     },
     "execution_count": 11,
     "metadata": {},
     "output_type": "execute_result"
    }
   ],
   "source": [
    "False and True    # and >> * "
   ]
  },
  {
   "cell_type": "code",
   "execution_count": 12,
   "id": "01fdbc5e",
   "metadata": {},
   "outputs": [
    {
     "data": {
      "text/plain": [
       "0"
      ]
     },
     "execution_count": 12,
     "metadata": {},
     "output_type": "execute_result"
    }
   ],
   "source": [
    "False  * True "
   ]
  },
  {
   "cell_type": "code",
   "execution_count": 13,
   "id": "eb835fa5",
   "metadata": {},
   "outputs": [
    {
     "data": {
      "text/plain": [
       "True"
      ]
     },
     "execution_count": 13,
     "metadata": {},
     "output_type": "execute_result"
    }
   ],
   "source": [
    "True or False  # or >> +"
   ]
  },
  {
   "cell_type": "code",
   "execution_count": 14,
   "id": "3a7d1d8b",
   "metadata": {},
   "outputs": [
    {
     "data": {
      "text/plain": [
       "True"
      ]
     },
     "execution_count": 14,
     "metadata": {},
     "output_type": "execute_result"
    }
   ],
   "source": [
    "x = \"amit\"\n",
    "\"a\" in x "
   ]
  },
  {
   "cell_type": "code",
   "execution_count": 15,
   "id": "5147bd4d",
   "metadata": {},
   "outputs": [
    {
     "data": {
      "text/plain": [
       "False"
      ]
     },
     "execution_count": 15,
     "metadata": {},
     "output_type": "execute_result"
    }
   ],
   "source": [
    "# conditions\n",
    "10 > 20 "
   ]
  },
  {
   "cell_type": "code",
   "execution_count": 16,
   "id": "ee343e72",
   "metadata": {},
   "outputs": [
    {
     "data": {
      "text/plain": [
       "True"
      ]
     },
     "execution_count": 16,
     "metadata": {},
     "output_type": "execute_result"
    }
   ],
   "source": [
    "10 >= 10 "
   ]
  },
  {
   "cell_type": "code",
   "execution_count": 17,
   "id": "d3067dc1",
   "metadata": {},
   "outputs": [
    {
     "data": {
      "text/plain": [
       "True"
      ]
     },
     "execution_count": 17,
     "metadata": {},
     "output_type": "execute_result"
    }
   ],
   "source": [
    "10 < 20"
   ]
  },
  {
   "cell_type": "code",
   "execution_count": 18,
   "id": "b9bca935",
   "metadata": {},
   "outputs": [
    {
     "data": {
      "text/plain": [
       "False"
      ]
     },
     "execution_count": 18,
     "metadata": {},
     "output_type": "execute_result"
    }
   ],
   "source": [
    "10 <  10 "
   ]
  },
  {
   "cell_type": "code",
   "execution_count": 19,
   "id": "ce34b32d",
   "metadata": {},
   "outputs": [
    {
     "data": {
      "text/plain": [
       "True"
      ]
     },
     "execution_count": 19,
     "metadata": {},
     "output_type": "execute_result"
    }
   ],
   "source": [
    "10 == 10"
   ]
  },
  {
   "cell_type": "code",
   "execution_count": 21,
   "id": "03021874",
   "metadata": {},
   "outputs": [
    {
     "name": "stdout",
     "output_type": "stream",
     "text": [
      "Enter the num 10\n",
      "x equal to 10 \n"
     ]
    }
   ],
   "source": [
    "x = int(input(\"Enter the num \"))\n",
    "if x == 10 :\n",
    "    print(\"x equal to 10 \")\n",
    "else:\n",
    "    print(\"x not equal 10 \")"
   ]
  },
  {
   "cell_type": "code",
   "execution_count": 25,
   "id": "84ddea88",
   "metadata": {},
   "outputs": [
    {
     "name": "stdout",
     "output_type": "stream",
     "text": [
      "Enter the num 13\n",
      "number 13 is odd\n"
     ]
    }
   ],
   "source": [
    "x = int(input(\"Enter the num \"))\n",
    "if x % 2 == 0 :\n",
    "    print(f\"number {x} is even \")\n",
    "else:\n",
    "    print(f\"number {x} is odd\")"
   ]
  },
  {
   "cell_type": "code",
   "execution_count": 23,
   "id": "e403e0d9",
   "metadata": {},
   "outputs": [
    {
     "data": {
      "text/plain": [
       "0"
      ]
     },
     "execution_count": 23,
     "metadata": {},
     "output_type": "execute_result"
    }
   ],
   "source": [
    "10 % 2 "
   ]
  },
  {
   "cell_type": "code",
   "execution_count": 24,
   "id": "6f31a451",
   "metadata": {},
   "outputs": [
    {
     "data": {
      "text/plain": [
       "True"
      ]
     },
     "execution_count": 24,
     "metadata": {},
     "output_type": "execute_result"
    }
   ],
   "source": [
    "10 % 2 == 0 "
   ]
  },
  {
   "cell_type": "code",
   "execution_count": 26,
   "id": "6ca0cd7f",
   "metadata": {},
   "outputs": [],
   "source": [
    "# list \n",
    "lst = [1,2,3,4,5,6]  # or lst = list([1,2,3,4,5,6])"
   ]
  },
  {
   "cell_type": "code",
   "execution_count": 27,
   "id": "d14af0d7",
   "metadata": {},
   "outputs": [
    {
     "data": {
      "text/plain": [
       "list"
      ]
     },
     "execution_count": 27,
     "metadata": {},
     "output_type": "execute_result"
    }
   ],
   "source": [
    "type(lst)"
   ]
  },
  {
   "cell_type": "code",
   "execution_count": 28,
   "id": "9f9b4e7d",
   "metadata": {},
   "outputs": [
    {
     "data": {
      "text/plain": [
       "6"
      ]
     },
     "execution_count": 28,
     "metadata": {},
     "output_type": "execute_result"
    }
   ],
   "source": [
    "max(lst)"
   ]
  },
  {
   "cell_type": "code",
   "execution_count": 29,
   "id": "658c5cf3",
   "metadata": {},
   "outputs": [
    {
     "data": {
      "text/plain": [
       "[1, 2, 3, 4, 5, 6]"
      ]
     },
     "execution_count": 29,
     "metadata": {},
     "output_type": "execute_result"
    }
   ],
   "source": [
    "lst.sort()\n",
    "lst"
   ]
  },
  {
   "cell_type": "code",
   "execution_count": 30,
   "id": "1e339412",
   "metadata": {},
   "outputs": [
    {
     "data": {
      "text/plain": [
       "6"
      ]
     },
     "execution_count": 30,
     "metadata": {},
     "output_type": "execute_result"
    }
   ],
   "source": [
    "lst[-1]"
   ]
  },
  {
   "cell_type": "code",
   "execution_count": 31,
   "id": "15a08e8e",
   "metadata": {},
   "outputs": [
    {
     "data": {
      "text/plain": [
       "1"
      ]
     },
     "execution_count": 31,
     "metadata": {},
     "output_type": "execute_result"
    }
   ],
   "source": [
    "min(lst)"
   ]
  },
  {
   "cell_type": "code",
   "execution_count": 32,
   "id": "cdb6f308",
   "metadata": {},
   "outputs": [
    {
     "data": {
      "text/plain": [
       "1"
      ]
     },
     "execution_count": 32,
     "metadata": {},
     "output_type": "execute_result"
    }
   ],
   "source": [
    "lst[0]"
   ]
  },
  {
   "cell_type": "code",
   "execution_count": 33,
   "id": "5fbba2f4",
   "metadata": {},
   "outputs": [
    {
     "data": {
      "text/plain": [
       "[1, 2, 3, 4, 5, 6, 10]"
      ]
     },
     "execution_count": 33,
     "metadata": {},
     "output_type": "execute_result"
    }
   ],
   "source": [
    "lst.append(10)\n",
    "lst"
   ]
  },
  {
   "cell_type": "code",
   "execution_count": 39,
   "id": "ed4fe687",
   "metadata": {},
   "outputs": [
    {
     "data": {
      "text/plain": [
       "tuple"
      ]
     },
     "execution_count": 39,
     "metadata": {},
     "output_type": "execute_result"
    }
   ],
   "source": [
    "# tuple\n",
    "t = (1,2,3,4)   # or t = tuple([1,2,3,4,5])\n",
    "type(t)"
   ]
  },
  {
   "cell_type": "code",
   "execution_count": 41,
   "id": "e46399c0",
   "metadata": {},
   "outputs": [
    {
     "data": {
      "text/plain": [
       "1954516024224"
      ]
     },
     "execution_count": 41,
     "metadata": {},
     "output_type": "execute_result"
    }
   ],
   "source": [
    "id(t)"
   ]
  },
  {
   "cell_type": "code",
   "execution_count": 42,
   "id": "015181f6",
   "metadata": {},
   "outputs": [
    {
     "data": {
      "text/plain": [
       "4"
      ]
     },
     "execution_count": 42,
     "metadata": {},
     "output_type": "execute_result"
    }
   ],
   "source": [
    "len(t)"
   ]
  },
  {
   "cell_type": "code",
   "execution_count": 43,
   "id": "b936e4b4",
   "metadata": {},
   "outputs": [
    {
     "data": {
      "text/plain": [
       "[1, 2, 3, 4]"
      ]
     },
     "execution_count": 43,
     "metadata": {},
     "output_type": "execute_result"
    }
   ],
   "source": [
    "lst = list(t)\n",
    "lst"
   ]
  },
  {
   "cell_type": "code",
   "execution_count": 44,
   "id": "0e20aece",
   "metadata": {},
   "outputs": [
    {
     "data": {
      "text/plain": [
       "[1, 2, 3, 4, 20]"
      ]
     },
     "execution_count": 44,
     "metadata": {},
     "output_type": "execute_result"
    }
   ],
   "source": [
    "lst.append(20)\n",
    "lst"
   ]
  },
  {
   "cell_type": "code",
   "execution_count": 45,
   "id": "2fbfa461",
   "metadata": {},
   "outputs": [
    {
     "data": {
      "text/plain": [
       "(1, 2, 3, 4, 20)"
      ]
     },
     "execution_count": 45,
     "metadata": {},
     "output_type": "execute_result"
    }
   ],
   "source": [
    "t = tuple(lst)\n",
    "t"
   ]
  },
  {
   "cell_type": "code",
   "execution_count": 46,
   "id": "7d591367",
   "metadata": {},
   "outputs": [
    {
     "data": {
      "text/plain": [
       "1954513500928"
      ]
     },
     "execution_count": 46,
     "metadata": {},
     "output_type": "execute_result"
    }
   ],
   "source": [
    "id(t)"
   ]
  },
  {
   "cell_type": "code",
   "execution_count": 48,
   "id": "187b7698",
   "metadata": {},
   "outputs": [
    {
     "data": {
      "text/plain": [
       "set"
      ]
     },
     "execution_count": 48,
     "metadata": {},
     "output_type": "execute_result"
    }
   ],
   "source": [
    "s = {1,2,3,4} # or s = set([1,2,3,4])\n",
    "type(s)"
   ]
  },
  {
   "cell_type": "code",
   "execution_count": 49,
   "id": "6a63d5f7",
   "metadata": {},
   "outputs": [
    {
     "data": {
      "text/plain": [
       "4"
      ]
     },
     "execution_count": 49,
     "metadata": {},
     "output_type": "execute_result"
    }
   ],
   "source": [
    "len(s)"
   ]
  },
  {
   "cell_type": "code",
   "execution_count": 50,
   "id": "9713d39c",
   "metadata": {},
   "outputs": [],
   "source": [
    "s.add(5)"
   ]
  },
  {
   "cell_type": "code",
   "execution_count": 51,
   "id": "df0b7be8",
   "metadata": {},
   "outputs": [
    {
     "data": {
      "text/plain": [
       "{1, 2, 3, 4, 5}"
      ]
     },
     "execution_count": 51,
     "metadata": {},
     "output_type": "execute_result"
    }
   ],
   "source": [
    "s"
   ]
  },
  {
   "cell_type": "code",
   "execution_count": 52,
   "id": "ab8365ef",
   "metadata": {},
   "outputs": [
    {
     "data": {
      "text/plain": [
       "{3, 4}"
      ]
     },
     "execution_count": 52,
     "metadata": {},
     "output_type": "execute_result"
    }
   ],
   "source": [
    "a = {1,2,3,4}\n",
    "b = {3,4,5,6}\n",
    "a.intersection(b)   # a & b"
   ]
  },
  {
   "cell_type": "code",
   "execution_count": 53,
   "id": "6cecdf1d",
   "metadata": {},
   "outputs": [
    {
     "data": {
      "text/plain": [
       "{3, 4}"
      ]
     },
     "execution_count": 53,
     "metadata": {},
     "output_type": "execute_result"
    }
   ],
   "source": [
    "a & b "
   ]
  },
  {
   "cell_type": "code",
   "execution_count": 54,
   "id": "81fa336c",
   "metadata": {},
   "outputs": [
    {
     "data": {
      "text/plain": [
       "{1, 2, 3, 4, 5, 6}"
      ]
     },
     "execution_count": 54,
     "metadata": {},
     "output_type": "execute_result"
    }
   ],
   "source": [
    "a.union(b)   "
   ]
  },
  {
   "cell_type": "code",
   "execution_count": 55,
   "id": "538d94ec",
   "metadata": {},
   "outputs": [
    {
     "data": {
      "text/plain": [
       "{1, 2, 5, 6}"
      ]
     },
     "execution_count": 55,
     "metadata": {},
     "output_type": "execute_result"
    }
   ],
   "source": [
    "a ^ b    # >> a union b - a intersection  b "
   ]
  },
  {
   "cell_type": "code",
   "execution_count": 57,
   "id": "77ecb0e1",
   "metadata": {},
   "outputs": [
    {
     "data": {
      "text/plain": [
       "{1, 2, 5, 6}"
      ]
     },
     "execution_count": 57,
     "metadata": {},
     "output_type": "execute_result"
    }
   ],
   "source": [
    "a.union(b)  - a.intersection(b)"
   ]
  },
  {
   "cell_type": "code",
   "execution_count": 62,
   "id": "e9f770c8",
   "metadata": {},
   "outputs": [],
   "source": [
    "# dictionary  \n",
    "d = {\"k1\": 12 , \"k2\": 13}   # or d = dict([(,) , (,)])"
   ]
  },
  {
   "cell_type": "code",
   "execution_count": 63,
   "id": "b4cd1e88",
   "metadata": {},
   "outputs": [
    {
     "data": {
      "text/plain": [
       "{'k1': 12, 'k2': 13}"
      ]
     },
     "execution_count": 63,
     "metadata": {},
     "output_type": "execute_result"
    }
   ],
   "source": [
    "d"
   ]
  },
  {
   "cell_type": "code",
   "execution_count": 64,
   "id": "5b457703",
   "metadata": {},
   "outputs": [
    {
     "data": {
      "text/plain": [
       "dict_values([12, 13])"
      ]
     },
     "execution_count": 64,
     "metadata": {},
     "output_type": "execute_result"
    }
   ],
   "source": [
    "d.values()"
   ]
  },
  {
   "cell_type": "code",
   "execution_count": 65,
   "id": "12125b2a",
   "metadata": {},
   "outputs": [
    {
     "data": {
      "text/plain": [
       "dict_keys(['k1', 'k2'])"
      ]
     },
     "execution_count": 65,
     "metadata": {},
     "output_type": "execute_result"
    }
   ],
   "source": [
    "d.keys()"
   ]
  },
  {
   "cell_type": "code",
   "execution_count": 66,
   "id": "081b0d65",
   "metadata": {},
   "outputs": [
    {
     "name": "stdout",
     "output_type": "stream",
     "text": [
      "10\n",
      "20\n",
      "13\n",
      "15\n",
      "14\n"
     ]
    }
   ],
   "source": [
    "lst = [10 , 20 , 13 , 15 , 14]\n",
    "for i in lst:\n",
    "    print(i)"
   ]
  },
  {
   "cell_type": "code",
   "execution_count": 75,
   "id": "75f211ea",
   "metadata": {},
   "outputs": [
    {
     "name": "stdout",
     "output_type": "stream",
     "text": [
      "a\n",
      "m\n",
      "i\n",
      "t\n"
     ]
    }
   ],
   "source": [
    "for i in \"amit\":\n",
    "    if i == \"m\":\n",
    "#         break\n",
    "#         continue\n",
    "#         pass\n",
    "        print(i)\n",
    "    else:\n",
    "        print(i)"
   ]
  },
  {
   "cell_type": "code",
   "execution_count": 80,
   "id": "396bb245",
   "metadata": {},
   "outputs": [
    {
     "name": "stdout",
     "output_type": "stream",
     "text": [
      "0 10\n",
      "1 20\n",
      "2 13\n",
      "3 15\n",
      "4 14\n"
     ]
    }
   ],
   "source": [
    "for i , v in enumerate(lst):\n",
    "    print(i   , v )"
   ]
  },
  {
   "cell_type": "code",
   "execution_count": 78,
   "id": "96162911",
   "metadata": {},
   "outputs": [
    {
     "data": {
      "text/plain": [
       "[10, 20, 13, 15, 14]"
      ]
     },
     "execution_count": 78,
     "metadata": {},
     "output_type": "execute_result"
    }
   ],
   "source": [
    "lst"
   ]
  },
  {
   "cell_type": "code",
   "execution_count": 83,
   "id": "7045d804",
   "metadata": {},
   "outputs": [
    {
     "name": "stdout",
     "output_type": "stream",
     "text": [
      "0  amit\n",
      "1  amit\n",
      "2  amit\n",
      "3  amit\n",
      "4  amit\n",
      "5  amit\n",
      "6  amit\n",
      "7  amit\n",
      "8  amit\n",
      "9  amit\n",
      "10  amit\n"
     ]
    }
   ],
   "source": [
    "x = 0\n",
    "while x <= 10 :   # >> True     when x equal to 11 >> False \n",
    "    print(x , \" amit\")\n",
    "    x += 1        # x = x + 1  "
   ]
  },
  {
   "cell_type": "code",
   "execution_count": 84,
   "id": "c8d783b9",
   "metadata": {},
   "outputs": [
    {
     "data": {
      "text/plain": [
       "11"
      ]
     },
     "execution_count": 84,
     "metadata": {},
     "output_type": "execute_result"
    }
   ],
   "source": [
    "x"
   ]
  },
  {
   "cell_type": "code",
   "execution_count": 85,
   "id": "58eb7696",
   "metadata": {},
   "outputs": [],
   "source": [
    "# # Functions \n",
    "# len() , type() , print() , max()  , min()  , sum()  , title() , sort() , ......\n",
    "# def fun_name(args....):\n",
    "def add( n1 , n2 ):\n",
    "    s = n1 + n2 \n",
    "    return s  \n",
    "    "
   ]
  },
  {
   "cell_type": "code",
   "execution_count": 86,
   "id": "a20c8d37",
   "metadata": {},
   "outputs": [
    {
     "data": {
      "text/plain": [
       "20"
      ]
     },
     "execution_count": 86,
     "metadata": {},
     "output_type": "execute_result"
    }
   ],
   "source": [
    "add(10,10)"
   ]
  },
  {
   "cell_type": "code",
   "execution_count": 90,
   "id": "f2f0c33a",
   "metadata": {},
   "outputs": [],
   "source": [
    "def check():\n",
    "    x = int(input(\"enter the number \"))\n",
    "    if x % 2 == 0:\n",
    "        print( \"Even\")\n",
    "    else:\n",
    "        print( \"Odd\" ) "
   ]
  },
  {
   "cell_type": "code",
   "execution_count": 91,
   "id": "bff88e6c",
   "metadata": {},
   "outputs": [
    {
     "name": "stdout",
     "output_type": "stream",
     "text": [
      "enter the number 12\n",
      "Even\n"
     ]
    }
   ],
   "source": [
    "check()"
   ]
  },
  {
   "cell_type": "code",
   "execution_count": 89,
   "id": "08893227",
   "metadata": {},
   "outputs": [
    {
     "name": "stdout",
     "output_type": "stream",
     "text": [
      "enter the number 13\n"
     ]
    },
    {
     "data": {
      "text/plain": [
       "'Odd'"
      ]
     },
     "execution_count": 89,
     "metadata": {},
     "output_type": "execute_result"
    }
   ],
   "source": [
    "check()"
   ]
  },
  {
   "cell_type": "code",
   "execution_count": 92,
   "id": "0b78a6b7",
   "metadata": {},
   "outputs": [],
   "source": [
    "lst = [1,2,3]"
   ]
  },
  {
   "cell_type": "code",
   "execution_count": 94,
   "id": "206f3e29",
   "metadata": {},
   "outputs": [],
   "source": [
    "def add(l):\n",
    "    s  = 0 \n",
    "    for i in l :\n",
    "        s = s + i\n",
    "    return s "
   ]
  },
  {
   "cell_type": "code",
   "execution_count": 95,
   "id": "bbcc2e0d",
   "metadata": {},
   "outputs": [
    {
     "data": {
      "text/plain": [
       "6"
      ]
     },
     "execution_count": 95,
     "metadata": {},
     "output_type": "execute_result"
    }
   ],
   "source": [
    "lst = [1,2,3]\n",
    "add(lst)"
   ]
  },
  {
   "cell_type": "code",
   "execution_count": 96,
   "id": "05d235d2",
   "metadata": {},
   "outputs": [
    {
     "data": {
      "text/plain": [
       "9"
      ]
     },
     "execution_count": 96,
     "metadata": {},
     "output_type": "execute_result"
    }
   ],
   "source": [
    "add([2,3,4])"
   ]
  },
  {
   "cell_type": "code",
   "execution_count": 97,
   "id": "16338898",
   "metadata": {},
   "outputs": [
    {
     "data": {
      "text/plain": [
       "18"
      ]
     },
     "execution_count": 97,
     "metadata": {},
     "output_type": "execute_result"
    }
   ],
   "source": [
    "add([3,4,5,6])"
   ]
  },
  {
   "cell_type": "code",
   "execution_count": 99,
   "id": "6f4bd856",
   "metadata": {},
   "outputs": [],
   "source": [
    "m = lambda n1 , n2 : n1 + n2 "
   ]
  },
  {
   "cell_type": "code",
   "execution_count": 100,
   "id": "95701f33",
   "metadata": {},
   "outputs": [
    {
     "data": {
      "text/plain": [
       "20"
      ]
     },
     "execution_count": 100,
     "metadata": {},
     "output_type": "execute_result"
    }
   ],
   "source": [
    "m(10 , 10)"
   ]
  },
  {
   "cell_type": "code",
   "execution_count": null,
   "id": "7e779aa9",
   "metadata": {},
   "outputs": [],
   "source": []
  },
  {
   "cell_type": "code",
   "execution_count": null,
   "id": "1a7ea1f5",
   "metadata": {},
   "outputs": [],
   "source": []
  },
  {
   "cell_type": "code",
   "execution_count": null,
   "id": "ccccaa1a",
   "metadata": {},
   "outputs": [],
   "source": []
  },
  {
   "cell_type": "code",
   "execution_count": null,
   "id": "3c89bfd6",
   "metadata": {},
   "outputs": [],
   "source": []
  },
  {
   "cell_type": "code",
   "execution_count": 25,
   "id": "8cd31cc5",
   "metadata": {},
   "outputs": [],
   "source": [
    "# class Parent:\n",
    "#     speaks = [\"English\"]\n",
    "\n",
    "# class Child(Parent):\n",
    "#     def __init__(self , name):\n",
    "#         self.name = name\n",
    "#         super().__init__()\n",
    "#         self.speaks.append(\"German\")\n",
    "#     def __str__(self):\n",
    "#         return f\"Hello, {self.name}\""
   ]
  },
  {
   "cell_type": "code",
   "execution_count": 26,
   "id": "1a556f1f",
   "metadata": {},
   "outputs": [],
   "source": [
    "# c = Child(\"ahmed\")"
   ]
  },
  {
   "cell_type": "code",
   "execution_count": 244,
   "id": "d90de4d4",
   "metadata": {},
   "outputs": [],
   "source": [
    "# c.speaks"
   ]
  },
  {
   "cell_type": "code",
   "execution_count": 246,
   "id": "84ce356c",
   "metadata": {},
   "outputs": [],
   "source": [
    "# print(c)"
   ]
  },
  {
   "cell_type": "code",
   "execution_count": 247,
   "id": "542acbe6",
   "metadata": {},
   "outputs": [],
   "source": [
    "# # dog.py\n",
    "\n",
    "# class Dog:\n",
    "#     species = \"Canis familiaris\"\n",
    "\n",
    "#     def __init__(self, name, age, breed):\n",
    "#         self.name = name\n",
    "#         self.age = age\n",
    "#         self.breed = breed\n",
    "\n",
    "#     def __str__(self):\n",
    "#         return f\"{self.name} is {self.age} years old\"\n",
    "\n",
    "#     def speak(self, sound):\n",
    "#         return f\"{self.name} says {sound}\"\n",
    "# class Dog_2(Dog):\n",
    "#     pass"
   ]
  },
  {
   "cell_type": "code",
   "execution_count": 248,
   "id": "bcef2651",
   "metadata": {},
   "outputs": [],
   "source": [
    "# print(Dog(\"A\" , 34 , True))"
   ]
  },
  {
   "cell_type": "code",
   "execution_count": 249,
   "id": "57f0f223",
   "metadata": {},
   "outputs": [],
   "source": [
    "# a = Dog_2(\"A\" , 34 , True)"
   ]
  },
  {
   "cell_type": "code",
   "execution_count": 250,
   "id": "94096d7e",
   "metadata": {},
   "outputs": [],
   "source": [
    "# print(a)"
   ]
  },
  {
   "cell_type": "code",
   "execution_count": null,
   "id": "74876d0a",
   "metadata": {},
   "outputs": [],
   "source": []
  },
  {
   "cell_type": "code",
   "execution_count": null,
   "id": "cc38a40f",
   "metadata": {},
   "outputs": [],
   "source": []
  },
  {
   "cell_type": "code",
   "execution_count": null,
   "id": "16fc38b7",
   "metadata": {},
   "outputs": [],
   "source": []
  },
  {
   "cell_type": "code",
   "execution_count": null,
   "id": "1e6a9ae1",
   "metadata": {},
   "outputs": [],
   "source": []
  },
  {
   "cell_type": "code",
   "execution_count": null,
   "id": "49de1fa6",
   "metadata": {},
   "outputs": [],
   "source": []
  },
  {
   "cell_type": "code",
   "execution_count": null,
   "id": "c0cdd0be",
   "metadata": {},
   "outputs": [],
   "source": []
  },
  {
   "cell_type": "code",
   "execution_count": 103,
   "id": "8ba96bcd",
   "metadata": {},
   "outputs": [],
   "source": [
    "# Create class \n",
    "class Dog:\n",
    "    pass "
   ]
  },
  {
   "cell_type": "code",
   "execution_count": 104,
   "id": "c3645d7a",
   "metadata": {},
   "outputs": [],
   "source": [
    "# Create Object\n",
    "d1 = Dog()"
   ]
  },
  {
   "cell_type": "code",
   "execution_count": 105,
   "id": "75becf44",
   "metadata": {},
   "outputs": [
    {
     "name": "stdout",
     "output_type": "stream",
     "text": [
      "<__main__.Dog object at 0x000001C713FCFDF0>\n"
     ]
    }
   ],
   "source": [
    "print(d1)"
   ]
  },
  {
   "cell_type": "code",
   "execution_count": 106,
   "id": "2be56b9c",
   "metadata": {},
   "outputs": [],
   "source": [
    "d2 = Dog()"
   ]
  },
  {
   "cell_type": "code",
   "execution_count": 107,
   "id": "71aceb6e",
   "metadata": {},
   "outputs": [],
   "source": [
    "d3 = Dog()"
   ]
  },
  {
   "cell_type": "code",
   "execution_count": 118,
   "id": "fa85beda",
   "metadata": {},
   "outputs": [],
   "source": [
    "# Create class Dog \n",
    "class Dog:\n",
    "#     class attribute \n",
    "    counter = 0 \n",
    "#     Constructor\n",
    "    def __init__(self , name , age , color ):\n",
    "#         instance attribute   (object)\n",
    "        self.namee = name\n",
    "        self.agee  = age\n",
    "        self.colorr = color\n",
    "#         counter \n",
    "        Dog.counter += 1\n",
    "#     instance method    >>> (self)\n",
    "    def show(self):\n",
    "        return f\"the Dog name is {self.namee}, his age is {self.agee} and his color is {self.colorr}  , number of dogs is {Dog.counter}\""
   ]
  },
  {
   "cell_type": "code",
   "execution_count": 119,
   "id": "ed9ab655",
   "metadata": {},
   "outputs": [],
   "source": [
    "d1 = Dog(\"D1\" , 3 , \"black\")"
   ]
  },
  {
   "cell_type": "code",
   "execution_count": 121,
   "id": "3f438492",
   "metadata": {},
   "outputs": [
    {
     "data": {
      "text/plain": [
       "'the Dog name is D1, his age is 3 and his color is black  , number of dogs is 1'"
      ]
     },
     "execution_count": 121,
     "metadata": {},
     "output_type": "execute_result"
    }
   ],
   "source": [
    "d1.show()"
   ]
  },
  {
   "cell_type": "code",
   "execution_count": 122,
   "id": "caf59601",
   "metadata": {},
   "outputs": [],
   "source": [
    "d2 = Dog(\"D2\" , 2 , \"black_w\")"
   ]
  },
  {
   "cell_type": "code",
   "execution_count": 124,
   "id": "c7e52a76",
   "metadata": {},
   "outputs": [
    {
     "data": {
      "text/plain": [
       "'the Dog name is D1, his age is 3 and his color is black  , number of dogs is 2'"
      ]
     },
     "execution_count": 124,
     "metadata": {},
     "output_type": "execute_result"
    }
   ],
   "source": [
    "d1.show()"
   ]
  },
  {
   "cell_type": "code",
   "execution_count": 125,
   "id": "87477441",
   "metadata": {},
   "outputs": [
    {
     "data": {
      "text/plain": [
       "'the Dog name is D2, his age is 2 and his color is black_w  , number of dogs is 2'"
      ]
     },
     "execution_count": 125,
     "metadata": {},
     "output_type": "execute_result"
    }
   ],
   "source": [
    "d2.show()"
   ]
  },
  {
   "cell_type": "code",
   "execution_count": 150,
   "id": "9c62c662",
   "metadata": {},
   "outputs": [],
   "source": [
    "# Students \n",
    "#     instance attribute >>> name , age , address , courses\n",
    "\n",
    "#     instance method    >>> display()\n",
    "    \n",
    "#     class attribute   >>> number of students \n",
    "\n",
    "class Students:\n",
    "    #class attribute\n",
    "    n_students = 0\n",
    "    def __init__(self , name , age , address  , courses):\n",
    "        #instance attribute\n",
    "        self.name    = name\n",
    "        self.age     = age \n",
    "        self.address = address \n",
    "        self.courses = courses\n",
    "        #counter\n",
    "        Students.n_students += 1 \n",
    "    #instance method     \n",
    "    def display(self):\n",
    "        print( f\"student name: {self.name}\")\n",
    "        print(f\"student age: {self.age}\")\n",
    "        print(f\"student address: {self.address}\")\n",
    "        print(f\"number of courses: {self.courses}\")\n",
    "        print(f\"number of students is {Students.n_students}\")\n",
    "        \n",
    "    def __str__(self):\n",
    "        return f\"student name is {self.name} and his age is {self.age}\""
   ]
  },
  {
   "cell_type": "code",
   "execution_count": 151,
   "id": "1042274d",
   "metadata": {},
   "outputs": [],
   "source": [
    "student1 = Students(\"ahmed\" , 30 , \"123\" , 5 )\n",
    "student2 = Students(\"mohamed\" , 30 , \"12\" , 4 )"
   ]
  },
  {
   "cell_type": "code",
   "execution_count": 152,
   "id": "94db93ef",
   "metadata": {},
   "outputs": [
    {
     "data": {
      "text/plain": [
       "'ahmed'"
      ]
     },
     "execution_count": 152,
     "metadata": {},
     "output_type": "execute_result"
    }
   ],
   "source": [
    "student1.name"
   ]
  },
  {
   "cell_type": "code",
   "execution_count": 153,
   "id": "f1331115",
   "metadata": {},
   "outputs": [
    {
     "data": {
      "text/plain": [
       "30"
      ]
     },
     "execution_count": 153,
     "metadata": {},
     "output_type": "execute_result"
    }
   ],
   "source": [
    "student1.age"
   ]
  },
  {
   "cell_type": "code",
   "execution_count": 154,
   "id": "63bdf5fb",
   "metadata": {},
   "outputs": [
    {
     "name": "stdout",
     "output_type": "stream",
     "text": [
      "student name: ahmed\n",
      "student age: 30\n",
      "student address: 123\n",
      "number of courses: 5\n",
      "number of students is 2\n"
     ]
    }
   ],
   "source": [
    "student1.display()"
   ]
  },
  {
   "cell_type": "code",
   "execution_count": 155,
   "id": "0c616778",
   "metadata": {},
   "outputs": [
    {
     "data": {
      "text/plain": [
       "'mohamed'"
      ]
     },
     "execution_count": 155,
     "metadata": {},
     "output_type": "execute_result"
    }
   ],
   "source": [
    "student2.name"
   ]
  },
  {
   "cell_type": "code",
   "execution_count": 156,
   "id": "2dc67641",
   "metadata": {},
   "outputs": [
    {
     "data": {
      "text/plain": [
       "30"
      ]
     },
     "execution_count": 156,
     "metadata": {},
     "output_type": "execute_result"
    }
   ],
   "source": [
    "student2.age"
   ]
  },
  {
   "cell_type": "code",
   "execution_count": 157,
   "id": "87e80929",
   "metadata": {},
   "outputs": [
    {
     "name": "stdout",
     "output_type": "stream",
     "text": [
      "student name: mohamed\n",
      "student age: 30\n",
      "student address: 12\n",
      "number of courses: 4\n",
      "number of students is 2\n"
     ]
    }
   ],
   "source": [
    "student2.display()"
   ]
  },
  {
   "cell_type": "code",
   "execution_count": 158,
   "id": "097bb4b8",
   "metadata": {},
   "outputs": [
    {
     "name": "stdout",
     "output_type": "stream",
     "text": [
      "student name is ahmed and his age is 30\n"
     ]
    }
   ],
   "source": [
    "print(student1)"
   ]
  },
  {
   "cell_type": "code",
   "execution_count": 159,
   "id": "84f0dad1",
   "metadata": {},
   "outputs": [
    {
     "name": "stdout",
     "output_type": "stream",
     "text": [
      "student name is mohamed and his age is 30\n"
     ]
    }
   ],
   "source": [
    "print(student2)"
   ]
  },
  {
   "cell_type": "code",
   "execution_count": 176,
   "id": "fffe9820",
   "metadata": {},
   "outputs": [],
   "source": [
    "# Students \n",
    "#     instance attribute >>> name , age , address , courses\n",
    "\n",
    "#     instance method    >>> display()\n",
    "    \n",
    "#     class attribute   >>> number of students \n",
    "\n",
    "class Students:\n",
    "    #class attribute\n",
    "    n_students = 0\n",
    "    class_name = \"Student\"\n",
    "    def __init__(self , name , age , address  , courses):\n",
    "        #instance attribute\n",
    "        self.name    = name\n",
    "        self.age     = age \n",
    "        self.address = address \n",
    "        self.courses = courses\n",
    "        #counter\n",
    "        Students.n_students += 1 \n",
    "    #instance method       >> instance attribute \n",
    "    def display(self):\n",
    "        print( f\"student name: {self.name}\")\n",
    "        print(f\"student age: {self.age}\")\n",
    "        print(f\"student address: {self.address}\")\n",
    "        print(f\"number of courses: {self.courses}\")\n",
    "#         print(f\"number of students is {Students.n_students}\")\n",
    "        \n",
    "    def __str__(self):\n",
    "        return f\"student name is {self.name} and his age is {self.age}\"\n",
    "    \n",
    "    @classmethod    # class method >> class attribute \n",
    "    def nostudents(cls):\n",
    "        print(f\"number of students is {cls.n_students} , {cls.class_name}\")\n",
    "        \n",
    "    @staticmethod\n",
    "    def add(n1 , n2 ):\n",
    "        return n1 + n2 "
   ]
  },
  {
   "cell_type": "code",
   "execution_count": 177,
   "id": "d1f854c5",
   "metadata": {},
   "outputs": [],
   "source": [
    "student1 = Students(\"ahmed\" , 30 , \"123\" , 5 )\n",
    "student2 = Students(\"mohamed\" , 30 , \"12\" , 4 )"
   ]
  },
  {
   "cell_type": "code",
   "execution_count": 178,
   "id": "94df299e",
   "metadata": {},
   "outputs": [
    {
     "name": "stdout",
     "output_type": "stream",
     "text": [
      "number of students is 2 , Student\n"
     ]
    }
   ],
   "source": [
    "student1.nostudents()"
   ]
  },
  {
   "cell_type": "code",
   "execution_count": 179,
   "id": "2a254aa6",
   "metadata": {},
   "outputs": [
    {
     "name": "stdout",
     "output_type": "stream",
     "text": [
      "number of students is 2 , Student\n"
     ]
    }
   ],
   "source": [
    "Students.nostudents()"
   ]
  },
  {
   "cell_type": "code",
   "execution_count": 180,
   "id": "fa1db765",
   "metadata": {},
   "outputs": [
    {
     "data": {
      "text/plain": [
       "20"
      ]
     },
     "execution_count": 180,
     "metadata": {},
     "output_type": "execute_result"
    }
   ],
   "source": [
    "student1.add(10,10)"
   ]
  },
  {
   "cell_type": "code",
   "execution_count": 181,
   "id": "8788b885",
   "metadata": {},
   "outputs": [
    {
     "data": {
      "text/plain": [
       "40"
      ]
     },
     "execution_count": 181,
     "metadata": {},
     "output_type": "execute_result"
    }
   ],
   "source": [
    "student2.add(20,20)"
   ]
  },
  {
   "cell_type": "code",
   "execution_count": 182,
   "id": "550bdc8a",
   "metadata": {},
   "outputs": [
    {
     "data": {
      "text/plain": [
       "'ahmed'"
      ]
     },
     "execution_count": 182,
     "metadata": {},
     "output_type": "execute_result"
    }
   ],
   "source": [
    "student1.name"
   ]
  },
  {
   "cell_type": "code",
   "execution_count": 183,
   "id": "6c3ea634",
   "metadata": {},
   "outputs": [
    {
     "data": {
      "text/plain": [
       "'mohamed'"
      ]
     },
     "execution_count": 183,
     "metadata": {},
     "output_type": "execute_result"
    }
   ],
   "source": [
    "student2.name "
   ]
  },
  {
   "cell_type": "code",
   "execution_count": 186,
   "id": "d95e59d0",
   "metadata": {},
   "outputs": [],
   "source": [
    "student1.name = \"pateee\"\n",
    "student1.age = 300"
   ]
  },
  {
   "cell_type": "code",
   "execution_count": 187,
   "id": "7fb5eb54",
   "metadata": {},
   "outputs": [
    {
     "name": "stdout",
     "output_type": "stream",
     "text": [
      "student name: pateee\n",
      "student age: 300\n",
      "student address: 123\n",
      "number of courses: 5\n"
     ]
    }
   ],
   "source": [
    "student1.display()"
   ]
  },
  {
   "cell_type": "code",
   "execution_count": 188,
   "id": "f99989ef",
   "metadata": {},
   "outputs": [],
   "source": [
    "student1.name = \"Ahmed\""
   ]
  },
  {
   "cell_type": "code",
   "execution_count": 189,
   "id": "200641a0",
   "metadata": {},
   "outputs": [
    {
     "name": "stdout",
     "output_type": "stream",
     "text": [
      "student name: Ahmed\n",
      "student age: 300\n",
      "student address: 123\n",
      "number of courses: 5\n"
     ]
    }
   ],
   "source": [
    "student1.display()"
   ]
  },
  {
   "cell_type": "code",
   "execution_count": null,
   "id": "879dadef",
   "metadata": {},
   "outputs": [],
   "source": []
  },
  {
   "cell_type": "code",
   "execution_count": null,
   "id": "b401b2a5",
   "metadata": {},
   "outputs": [],
   "source": []
  },
  {
   "cell_type": "code",
   "execution_count": null,
   "id": "f882b06c",
   "metadata": {},
   "outputs": [],
   "source": []
  },
  {
   "cell_type": "code",
   "execution_count": 204,
   "id": "e0e127bd",
   "metadata": {},
   "outputs": [],
   "source": [
    "class Students:\n",
    "\n",
    "    def __init__(self , name , age , address  , courses):\n",
    "        #instance attribute\n",
    "        self.__name    = name\n",
    "        self.__age     = age \n",
    "        self.__address = add=ress \n",
    "        self.__courses = courses\n",
    "\n",
    "    #instance method       >> instance attribute \n",
    "    def display(self):\n",
    "        print( f\"student name: {self.__name}\")\n",
    "        print(f\"student age: {self.__age}\")\n",
    "        print(f\"student address: {self.__address}\")\n",
    "        print(f\"number of courses: {self.__courses}\")\n",
    " "
   ]
  },
  {
   "cell_type": "code",
   "execution_count": 205,
   "id": "022bb32c",
   "metadata": {},
   "outputs": [],
   "source": [
    "s1 = Students(\"ahmed\" , 30 , \"123\" , 5 )\n",
    "s2 = Students(\"mohamed\" , 30 , \"12\" , 4 )"
   ]
  },
  {
   "cell_type": "code",
   "execution_count": 196,
   "id": "a293c378",
   "metadata": {},
   "outputs": [
    {
     "name": "stdout",
     "output_type": "stream",
     "text": [
      "student name: ahmed\n",
      "student age: 30\n",
      "student address: 123\n",
      "number of courses: 5\n"
     ]
    }
   ],
   "source": [
    "s1.display()"
   ]
  },
  {
   "cell_type": "code",
   "execution_count": 197,
   "id": "a31d8662",
   "metadata": {},
   "outputs": [
    {
     "ename": "AttributeError",
     "evalue": "'Students' object has no attribute 'name'",
     "output_type": "error",
     "traceback": [
      "\u001b[1;31m---------------------------------------------------------------------------\u001b[0m",
      "\u001b[1;31mAttributeError\u001b[0m                            Traceback (most recent call last)",
      "Cell \u001b[1;32mIn[197], line 1\u001b[0m\n\u001b[1;32m----> 1\u001b[0m \u001b[43ms1\u001b[49m\u001b[38;5;241;43m.\u001b[39;49m\u001b[43mname\u001b[49m\n",
      "\u001b[1;31mAttributeError\u001b[0m: 'Students' object has no attribute 'name'"
     ]
    }
   ],
   "source": [
    "s1.name"
   ]
  },
  {
   "cell_type": "code",
   "execution_count": 198,
   "id": "afb23984",
   "metadata": {},
   "outputs": [
    {
     "ename": "AttributeError",
     "evalue": "'Students' object has no attribute '__name'",
     "output_type": "error",
     "traceback": [
      "\u001b[1;31m---------------------------------------------------------------------------\u001b[0m",
      "\u001b[1;31mAttributeError\u001b[0m                            Traceback (most recent call last)",
      "Cell \u001b[1;32mIn[198], line 1\u001b[0m\n\u001b[1;32m----> 1\u001b[0m \u001b[43ms1\u001b[49m\u001b[38;5;241;43m.\u001b[39;49m\u001b[43m__name\u001b[49m\n",
      "\u001b[1;31mAttributeError\u001b[0m: 'Students' object has no attribute '__name'"
     ]
    }
   ],
   "source": [
    "s1.__name"
   ]
  },
  {
   "cell_type": "code",
   "execution_count": 199,
   "id": "4e3eab1b",
   "metadata": {},
   "outputs": [],
   "source": [
    "s1.name = \"AAAA\""
   ]
  },
  {
   "cell_type": "code",
   "execution_count": 200,
   "id": "c1461bb7",
   "metadata": {},
   "outputs": [
    {
     "data": {
      "text/plain": [
       "'AAAA'"
      ]
     },
     "execution_count": 200,
     "metadata": {},
     "output_type": "execute_result"
    }
   ],
   "source": [
    "s1.name"
   ]
  },
  {
   "cell_type": "code",
   "execution_count": 202,
   "id": "92b6ef6c",
   "metadata": {},
   "outputs": [],
   "source": [
    "s1.dddd = \"asd\""
   ]
  },
  {
   "cell_type": "code",
   "execution_count": 206,
   "id": "fd659dbb",
   "metadata": {},
   "outputs": [
    {
     "ename": "AttributeError",
     "evalue": "'Students' object has no attribute 'dddd'",
     "output_type": "error",
     "traceback": [
      "\u001b[1;31m---------------------------------------------------------------------------\u001b[0m",
      "\u001b[1;31mAttributeError\u001b[0m                            Traceback (most recent call last)",
      "Cell \u001b[1;32mIn[206], line 1\u001b[0m\n\u001b[1;32m----> 1\u001b[0m \u001b[43ms1\u001b[49m\u001b[38;5;241;43m.\u001b[39;49m\u001b[43mdddd\u001b[49m\n",
      "\u001b[1;31mAttributeError\u001b[0m: 'Students' object has no attribute 'dddd'"
     ]
    }
   ],
   "source": [
    "s1.dddd"
   ]
  },
  {
   "cell_type": "code",
   "execution_count": 207,
   "id": "d1694398",
   "metadata": {},
   "outputs": [
    {
     "name": "stdout",
     "output_type": "stream",
     "text": [
      "student name: ahmed\n",
      "student age: 30\n",
      "student address: 123\n",
      "number of courses: 5\n"
     ]
    }
   ],
   "source": [
    "s1.display()"
   ]
  },
  {
   "cell_type": "code",
   "execution_count": 223,
   "id": "e60a632f",
   "metadata": {},
   "outputs": [],
   "source": [
    "class Person:\n",
    "    def __init__(self , name , age):\n",
    "        #instance attribute\n",
    "        self.name    = name\n",
    "        self.age     = age  \n",
    "        \n",
    "    #instance method       >> instance attribute \n",
    "    def display(self):\n",
    "        print( f\" name: {self.name}\")\n",
    "        print(f\" age: {self.age}\")\n"
   ]
  },
  {
   "cell_type": "code",
   "execution_count": 224,
   "id": "3c8963de",
   "metadata": {},
   "outputs": [],
   "source": [
    "p1 = Person(\"ahmed\" , 30)"
   ]
  },
  {
   "cell_type": "code",
   "execution_count": 225,
   "id": "8cb9a7b3",
   "metadata": {},
   "outputs": [
    {
     "name": "stdout",
     "output_type": "stream",
     "text": [
      " name: ahmed\n",
      " age: 30\n"
     ]
    }
   ],
   "source": [
    "p1.display()"
   ]
  },
  {
   "cell_type": "code",
   "execution_count": 236,
   "id": "f324f091",
   "metadata": {},
   "outputs": [],
   "source": [
    "class Student(Person):\n",
    "    def __init__(self , name , age , courses):\n",
    "        self.courses = courses\n",
    "        self.name    = name\n",
    "        self.age     = age \n",
    "    def display(self):\n",
    "        print(f\"student name is {self.name}\")\n",
    "        print(f\"student age is {self.age}\")\n",
    "        print(f\"number of courses {self.courses}\")"
   ]
  },
  {
   "cell_type": "code",
   "execution_count": 237,
   "id": "0454c2a0",
   "metadata": {},
   "outputs": [],
   "source": [
    "s1 = Student(\"Amit\" , 30 , 3)"
   ]
  },
  {
   "cell_type": "code",
   "execution_count": 238,
   "id": "8eee567c",
   "metadata": {},
   "outputs": [
    {
     "name": "stdout",
     "output_type": "stream",
     "text": [
      "student name is Amit\n",
      "student age is 30\n",
      "number of courses 3\n"
     ]
    }
   ],
   "source": [
    "s1.display()"
   ]
  },
  {
   "cell_type": "code",
   "execution_count": 235,
   "id": "2473dfd3",
   "metadata": {},
   "outputs": [
    {
     "name": "stdout",
     "output_type": "stream",
     "text": [
      "student name is Amit\n",
      "student age is 30\n",
      "number of courses 3\n"
     ]
    }
   ],
   "source": [
    "s1.show()"
   ]
  },
  {
   "cell_type": "code",
   "execution_count": 240,
   "id": "14f24ac2",
   "metadata": {},
   "outputs": [],
   "source": [
    "# Cars \n",
    "#     instance attribute >>> name , speed , color , model\n",
    "\n",
    "#     instance method    >>> display()\n",
    "    \n",
    "#     class attribute   >>> number of Cars\n",
    "\n",
    "# class BMW(Cars):\n",
    "#     @staticmethod\n",
    "#     return time   >>   distance= 1000   speed = 250  \n",
    "t = distance / speed"
   ]
  },
  {
   "cell_type": "code",
   "execution_count": 241,
   "id": "d0b01a3b",
   "metadata": {},
   "outputs": [
    {
     "data": {
      "text/plain": [
       "4.0"
      ]
     },
     "execution_count": 241,
     "metadata": {},
     "output_type": "execute_result"
    }
   ],
   "source": [
    "t"
   ]
  },
  {
   "cell_type": "code",
   "execution_count": 242,
   "id": "bea7f86e",
   "metadata": {},
   "outputs": [],
   "source": [
    "class BMW(Cars):\n",
    "    @staticmethod\n",
    "    def calc_time(distance , speed):\n",
    "        return distance / speed "
   ]
  },
  {
   "cell_type": "code",
   "execution_count": 243,
   "id": "d78ec86b",
   "metadata": {},
   "outputs": [
    {
     "data": {
      "text/plain": [
       "4.0"
      ]
     },
     "execution_count": 243,
     "metadata": {},
     "output_type": "execute_result"
    }
   ],
   "source": [
    "calc_time(1000 , 250)"
   ]
  },
  {
   "cell_type": "code",
   "execution_count": null,
   "id": "d801b3ef",
   "metadata": {},
   "outputs": [],
   "source": []
  }
 ],
 "metadata": {
  "kernelspec": {
   "display_name": "Python 3 (ipykernel)",
   "language": "python",
   "name": "python3"
  },
  "language_info": {
   "codemirror_mode": {
    "name": "ipython",
    "version": 3
   },
   "file_extension": ".py",
   "mimetype": "text/x-python",
   "name": "python",
   "nbconvert_exporter": "python",
   "pygments_lexer": "ipython3",
   "version": "3.10.9"
  }
 },
 "nbformat": 4,
 "nbformat_minor": 5
}
