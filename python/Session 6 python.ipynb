{
 "cells": [
  {
   "cell_type": "code",
   "execution_count": null,
   "id": "19003ba0",
   "metadata": {},
   "outputs": [],
   "source": [
    "lst = [\"amit\" , \"learning\" , \"Deep learning\" , \"machine learning\" , \"CV\" , \"NLP\"]\n",
    "def max_len(l):\n",
    "    \n",
    "for loop \n",
    "len(i)\n"
   ]
  },
  {
   "cell_type": "code",
   "execution_count": null,
   "id": "f20c99b6",
   "metadata": {},
   "outputs": [],
   "source": []
  },
  {
   "cell_type": "code",
   "execution_count": null,
   "id": "d893f7f5",
   "metadata": {},
   "outputs": [],
   "source": [
    "max_len(lst) >> 16  word >> \"machine learning\""
   ]
  },
  {
   "cell_type": "code",
   "execution_count": 4,
   "id": "a216dbab",
   "metadata": {},
   "outputs": [
    {
     "data": {
      "text/plain": [
       "2"
      ]
     },
     "execution_count": 4,
     "metadata": {},
     "output_type": "execute_result"
    }
   ],
   "source": [
    "len(\"cv\")"
   ]
  },
  {
   "cell_type": "code",
   "execution_count": 6,
   "id": "93340a63",
   "metadata": {},
   "outputs": [],
   "source": [
    "lst = [\"amit\" , \"learning\" , \"Deep learning\" , \"machine learning\" , \"CV\" , \"NLP\"]\n",
    "def max_len(l):\n",
    "    mx = -1    # 4 ,   8  , 13 , 16\n",
    "    word = \"\"   # amit , learning , Deep learning , machine learning\n",
    "    for i in l :\n",
    "        if len(i) > mx:\n",
    "            mx = len(i)\n",
    "            word = i\n",
    "            \n",
    "    return word , mx       \n",
    "    "
   ]
  },
  {
   "cell_type": "code",
   "execution_count": 8,
   "id": "97878111",
   "metadata": {},
   "outputs": [],
   "source": [
    "w , l = max_len(lst)"
   ]
  },
  {
   "cell_type": "code",
   "execution_count": 9,
   "id": "f0947550",
   "metadata": {},
   "outputs": [
    {
     "data": {
      "text/plain": [
       "'machine learning'"
      ]
     },
     "execution_count": 9,
     "metadata": {},
     "output_type": "execute_result"
    }
   ],
   "source": [
    "w"
   ]
  },
  {
   "cell_type": "code",
   "execution_count": 10,
   "id": "a8da2a77",
   "metadata": {},
   "outputs": [
    {
     "data": {
      "text/plain": [
       "16"
      ]
     },
     "execution_count": 10,
     "metadata": {},
     "output_type": "execute_result"
    }
   ],
   "source": [
    "l"
   ]
  },
  {
   "cell_type": "code",
   "execution_count": 13,
   "id": "5dcd8780",
   "metadata": {},
   "outputs": [
    {
     "data": {
      "text/plain": [
       "'machine learning'"
      ]
     },
     "execution_count": 13,
     "metadata": {},
     "output_type": "execute_result"
    }
   ],
   "source": [
    "max(lst , key=len)"
   ]
  },
  {
   "cell_type": "code",
   "execution_count": 15,
   "id": "b6a78f26",
   "metadata": {},
   "outputs": [
    {
     "data": {
      "text/plain": [
       "3"
      ]
     },
     "execution_count": 15,
     "metadata": {},
     "output_type": "execute_result"
    }
   ],
   "source": [
    "lst.index(max(lst , key=len))"
   ]
  },
  {
   "cell_type": "code",
   "execution_count": 16,
   "id": "f6f4ef2e",
   "metadata": {},
   "outputs": [],
   "source": [
    "X      = [[12,7,3],[4 ,5,6],[7 ,8,9]]\n",
    "\n",
    "Y      = [[5,8,1],[6,7,3],[4,5,9]]\n",
    "\n",
    "result = [[0,0,0],[0,0,0],[0,0,0]]"
   ]
  },
  {
   "cell_type": "code",
   "execution_count": 43,
   "id": "47339f37",
   "metadata": {},
   "outputs": [],
   "source": [
    "# for i in X:\n",
    "#     print(i)\n",
    "#     for j in i :\n",
    "#         print(j)"
   ]
  },
  {
   "cell_type": "code",
   "execution_count": 42,
   "id": "02a930ff",
   "metadata": {},
   "outputs": [
    {
     "name": "stdout",
     "output_type": "stream",
     "text": [
      "[12, 7, 3]\n",
      "12\n",
      "7\n",
      "3\n",
      "[4, 5, 6]\n",
      "4\n",
      "5\n",
      "6\n",
      "[7, 8, 9]\n",
      "7\n",
      "8\n",
      "9\n"
     ]
    }
   ],
   "source": [
    "for i in range(len(X)):\n",
    "    print(X[i])    # i = 0    , i = 1 \n",
    "    for j in range(len(Y[0])):  \n",
    "        print(X[i][j])    #i = 0 , j = 0 , 1 , 2    # i = 1 , j = 0 , 1 , 2 \n",
    "    "
   ]
  },
  {
   "cell_type": "code",
   "execution_count": 32,
   "id": "620f5c88",
   "metadata": {},
   "outputs": [
    {
     "data": {
      "text/plain": [
       "3"
      ]
     },
     "execution_count": 32,
     "metadata": {},
     "output_type": "execute_result"
    }
   ],
   "source": [
    "len(Y[2])"
   ]
  },
  {
   "cell_type": "code",
   "execution_count": 33,
   "id": "4e52aea0",
   "metadata": {},
   "outputs": [],
   "source": [
    "X = [[12,7,3],[4 ,5,6],[7 ,8,9]]"
   ]
  },
  {
   "cell_type": "code",
   "execution_count": 34,
   "id": "cd4cd616",
   "metadata": {},
   "outputs": [
    {
     "data": {
      "text/plain": [
       "12"
      ]
     },
     "execution_count": 34,
     "metadata": {},
     "output_type": "execute_result"
    }
   ],
   "source": [
    "X[0][0]"
   ]
  },
  {
   "cell_type": "code",
   "execution_count": 35,
   "id": "e22021f7",
   "metadata": {},
   "outputs": [
    {
     "data": {
      "text/plain": [
       "4"
      ]
     },
     "execution_count": 35,
     "metadata": {},
     "output_type": "execute_result"
    }
   ],
   "source": [
    "X[1][0]"
   ]
  },
  {
   "cell_type": "code",
   "execution_count": 36,
   "id": "48f3d61e",
   "metadata": {},
   "outputs": [
    {
     "data": {
      "text/plain": [
       "7"
      ]
     },
     "execution_count": 36,
     "metadata": {},
     "output_type": "execute_result"
    }
   ],
   "source": [
    "X[2][0]"
   ]
  },
  {
   "cell_type": "code",
   "execution_count": 40,
   "id": "6778dd98",
   "metadata": {},
   "outputs": [
    {
     "data": {
      "text/plain": [
       "3"
      ]
     },
     "execution_count": 40,
     "metadata": {},
     "output_type": "execute_result"
    }
   ],
   "source": [
    "X[0][2]"
   ]
  },
  {
   "cell_type": "code",
   "execution_count": 46,
   "id": "aeba7be1",
   "metadata": {},
   "outputs": [
    {
     "name": "stdout",
     "output_type": "stream",
     "text": [
      "[17, 15, 4]\n",
      "[10, 12, 9]\n",
      "[11, 13, 18]\n"
     ]
    }
   ],
   "source": [
    "for i in range(len(X)):\n",
    "    for j in range(len(Y[0])):  \n",
    "        result[i][j]=X[i][j] + Y[i][j]\n",
    "for i in result:\n",
    "    print(i)    "
   ]
  },
  {
   "cell_type": "code",
   "execution_count": 47,
   "id": "dd5c439b",
   "metadata": {},
   "outputs": [
    {
     "name": "stdout",
     "output_type": "stream",
     "text": [
      "[60, 56, 3]\n",
      "[24, 35, 18]\n",
      "[28, 40, 81]\n"
     ]
    }
   ],
   "source": [
    "for i in range(len(X)):\n",
    "    for j in range(len(Y[0])):  \n",
    "        result[i][j]=X[i][j] * Y[i][j]\n",
    "for i in result:\n",
    "    print(i) "
   ]
  },
  {
   "cell_type": "code",
   "execution_count": null,
   "id": "2f44263c",
   "metadata": {},
   "outputs": [],
   "source": [
    "# class name ShoppingCart\n",
    "## instance methods \n",
    "# add_items(self , item , price)   >>  Done \n",
    "# remove_item(self,item)   >> remove_item(\"orange\") >>  Done  , fail \n",
    "# total_price(self)  >>> orange , apple >> price >> 100\n",
    "# show_items(self) >>> orange >> 50 \n",
    "#                  apple  >> 50 \n",
    "#                  k      >> 30 "
   ]
  },
  {
   "cell_type": "code",
   "execution_count": 49,
   "id": "4876fad0",
   "metadata": {},
   "outputs": [],
   "source": [
    "lst = []\n",
    "def add_items(item , price):\n",
    "    lst.append((item , price))"
   ]
  },
  {
   "cell_type": "code",
   "execution_count": 50,
   "id": "d4181da7",
   "metadata": {},
   "outputs": [],
   "source": [
    "add_items(\"orange\" , 50)"
   ]
  },
  {
   "cell_type": "code",
   "execution_count": 51,
   "id": "6f504e75",
   "metadata": {},
   "outputs": [
    {
     "data": {
      "text/plain": [
       "[('orange', 50)]"
      ]
     },
     "execution_count": 51,
     "metadata": {},
     "output_type": "execute_result"
    }
   ],
   "source": [
    "lst"
   ]
  },
  {
   "cell_type": "code",
   "execution_count": 52,
   "id": "2fbe672a",
   "metadata": {},
   "outputs": [],
   "source": [
    "add_items(\"apple\" , 50)"
   ]
  },
  {
   "cell_type": "code",
   "execution_count": 53,
   "id": "12d7caaf",
   "metadata": {},
   "outputs": [
    {
     "data": {
      "text/plain": [
       "[('orange', 50), ('apple', 50)]"
      ]
     },
     "execution_count": 53,
     "metadata": {},
     "output_type": "execute_result"
    }
   ],
   "source": [
    "lst"
   ]
  },
  {
   "cell_type": "code",
   "execution_count": 58,
   "id": "bd536382",
   "metadata": {},
   "outputs": [],
   "source": [
    "def total_price():\n",
    "    s = 0\n",
    "    for i in lst :\n",
    "        s += i[1] \n",
    "    return s "
   ]
  },
  {
   "cell_type": "code",
   "execution_count": 59,
   "id": "67492286",
   "metadata": {},
   "outputs": [
    {
     "data": {
      "text/plain": [
       "100"
      ]
     },
     "execution_count": 59,
     "metadata": {},
     "output_type": "execute_result"
    }
   ],
   "source": [
    "total_price()"
   ]
  },
  {
   "cell_type": "code",
   "execution_count": 60,
   "id": "fc7034b2",
   "metadata": {},
   "outputs": [],
   "source": [
    "def remove_item(item):\n",
    "    for i in lst:\n",
    "        if i[0] == item:\n",
    "            lst.remove(i)\n",
    "    return lst"
   ]
  },
  {
   "cell_type": "code",
   "execution_count": 62,
   "id": "0682a930",
   "metadata": {},
   "outputs": [
    {
     "data": {
      "text/plain": [
       "[('orange', 50)]"
      ]
     },
     "execution_count": 62,
     "metadata": {},
     "output_type": "execute_result"
    }
   ],
   "source": [
    "remove_item(\"apple\")"
   ]
  },
  {
   "cell_type": "code",
   "execution_count": 63,
   "id": "7ec0195d",
   "metadata": {},
   "outputs": [
    {
     "data": {
      "text/plain": [
       "[('orange', 50)]"
      ]
     },
     "execution_count": 63,
     "metadata": {},
     "output_type": "execute_result"
    }
   ],
   "source": [
    "lst"
   ]
  },
  {
   "cell_type": "code",
   "execution_count": 85,
   "id": "14a3d782",
   "metadata": {},
   "outputs": [],
   "source": [
    "class ShoppingCart:\n",
    "    def __init__(self):\n",
    "        self.items = []\n",
    "    # add_items(self , item , price)\n",
    "    def add_items(self , item , price):\n",
    "        self.items.append((item , price))\n",
    "        print(\"Done\")\n",
    "        print(f\"Number of items in cart is {len(self.items)}\")\n",
    "    \n",
    "    # remove_item(self,item)    \n",
    "    def remove_item(self , item):\n",
    "        for i in self.items:\n",
    "            if i[0] == item :\n",
    "                self.items.remove(i)\n",
    "                print(f\"Done you removed item {item}\")\n",
    "    \n",
    "    # total_price(self) \n",
    "    def total_price(self):\n",
    "        s = 0\n",
    "        for i in self.items:\n",
    "            s += i[1] \n",
    "        return f\"Total price is {s}\" \n",
    "    \n",
    "    \n",
    "    # show_items(self)\n",
    "    def show_items(self):\n",
    "        for i in self.items:\n",
    "            print(f\"item {i[0]} , price {i[1]}\")"
   ]
  },
  {
   "cell_type": "code",
   "execution_count": 86,
   "id": "3db1860a",
   "metadata": {},
   "outputs": [
    {
     "name": "stdout",
     "output_type": "stream",
     "text": [
      "Done\n",
      "Number of items in cart is 1\n",
      "Done\n",
      "Number of items in cart is 2\n",
      "Done\n",
      "Number of items in cart is 3\n"
     ]
    }
   ],
   "source": [
    "person1 = ShoppingCart()\n",
    "person1.add_items(\"orange\" , 50)\n",
    "person1.add_items(\"apple\" , 50)\n",
    "person1.add_items(\"k\" , 50)"
   ]
  },
  {
   "cell_type": "code",
   "execution_count": 87,
   "id": "339867f5",
   "metadata": {},
   "outputs": [
    {
     "name": "stdout",
     "output_type": "stream",
     "text": [
      "item orange , price 50\n",
      "item apple , price 50\n",
      "item k , price 50\n"
     ]
    }
   ],
   "source": [
    "person1.show_items()"
   ]
  },
  {
   "cell_type": "code",
   "execution_count": 88,
   "id": "576521a0",
   "metadata": {},
   "outputs": [
    {
     "data": {
      "text/plain": [
       "'Total price is 150'"
      ]
     },
     "execution_count": 88,
     "metadata": {},
     "output_type": "execute_result"
    }
   ],
   "source": [
    "person1.total_price()"
   ]
  },
  {
   "cell_type": "code",
   "execution_count": 90,
   "id": "a5d6f05e",
   "metadata": {},
   "outputs": [
    {
     "name": "stdout",
     "output_type": "stream",
     "text": [
      "Done you removed item orange\n"
     ]
    }
   ],
   "source": [
    "person1.remove_item(\"orange\")"
   ]
  },
  {
   "cell_type": "code",
   "execution_count": 91,
   "id": "8dcfc049",
   "metadata": {},
   "outputs": [
    {
     "data": {
      "text/plain": [
       "'Total price is 100'"
      ]
     },
     "execution_count": 91,
     "metadata": {},
     "output_type": "execute_result"
    }
   ],
   "source": [
    "person1.total_price()"
   ]
  },
  {
   "cell_type": "code",
   "execution_count": 92,
   "id": "ae1769ec",
   "metadata": {},
   "outputs": [
    {
     "name": "stdout",
     "output_type": "stream",
     "text": [
      "item apple , price 50\n",
      "item k , price 50\n"
     ]
    }
   ],
   "source": [
    "person1.show_items()"
   ]
  },
  {
   "cell_type": "code",
   "execution_count": 94,
   "id": "66f241e3",
   "metadata": {},
   "outputs": [
    {
     "name": "stdout",
     "output_type": "stream",
     "text": [
      "Done\n",
      "Number of items in cart is 1\n",
      "Done\n",
      "Number of items in cart is 2\n",
      "Done\n",
      "Number of items in cart is 3\n"
     ]
    }
   ],
   "source": [
    "person2 = ShoppingCart()\n",
    "person2.add_items(\"O\" , 50)\n",
    "person2.add_items(\"A\" , 50)\n",
    "person2.add_items(\"k\" , 50)"
   ]
  },
  {
   "cell_type": "code",
   "execution_count": 95,
   "id": "469ee53d",
   "metadata": {},
   "outputs": [
    {
     "name": "stdout",
     "output_type": "stream",
     "text": [
      "item O , price 50\n",
      "item A , price 50\n",
      "item k , price 50\n"
     ]
    }
   ],
   "source": [
    "person2.show_items()"
   ]
  },
  {
   "cell_type": "code",
   "execution_count": 96,
   "id": "82727e88",
   "metadata": {},
   "outputs": [
    {
     "name": "stdout",
     "output_type": "stream",
     "text": [
      "item apple , price 50\n",
      "item k , price 50\n"
     ]
    }
   ],
   "source": [
    "person1.show_items()"
   ]
  },
  {
   "cell_type": "code",
   "execution_count": 97,
   "id": "de3b3337",
   "metadata": {},
   "outputs": [
    {
     "data": {
      "text/plain": [
       "[('apple', 50), ('k', 50)]"
      ]
     },
     "execution_count": 97,
     "metadata": {},
     "output_type": "execute_result"
    }
   ],
   "source": [
    "person1.items"
   ]
  },
  {
   "cell_type": "code",
   "execution_count": 98,
   "id": "d2cab270",
   "metadata": {},
   "outputs": [
    {
     "data": {
      "text/plain": [
       "[('O', 50), ('A', 50), ('k', 50)]"
      ]
     },
     "execution_count": 98,
     "metadata": {},
     "output_type": "execute_result"
    }
   ],
   "source": [
    "person2.items"
   ]
  },
  {
   "cell_type": "code",
   "execution_count": null,
   "id": "d70a4686",
   "metadata": {},
   "outputs": [],
   "source": [
    "class BankSystem \n",
    "login  \n",
    "        1 >> ()سحب\n",
    "        2 >> ()ايداع\n",
    "        3 >> show_info()   >> history \n",
    "        4 >> logout()   >> Goodbye \n",
    "        \n",
    "sign_up or create_n_account\n",
    "  1 >> login \n",
    "        1 >> ()سحب\n",
    "        2 >> ()ايداع\n",
    "        3 >> show_info()\n",
    "        4 >> logout()   >> \n",
    "            \n",
    "سحب() \n",
    "ايداع()\n",
    "\n",
    "show_info()   >> his balance\n",
    "logout >> Goodb\n"
   ]
  },
  {
   "cell_type": "code",
   "execution_count": null,
   "id": "acfe6084",
   "metadata": {},
   "outputs": [],
   "source": [
    "p1 = BankSystem()\n",
    "    1 >> login()   username , password   if username , password in accounts >>\n",
    "    \n",
    "    2 >> create_n_account()  username , password  add username , password in accounts   done >> login()\n",
    "    "
   ]
  }
 ],
 "metadata": {
  "kernelspec": {
   "display_name": "Python 3 (ipykernel)",
   "language": "python",
   "name": "python3"
  },
  "language_info": {
   "codemirror_mode": {
    "name": "ipython",
    "version": 3
   },
   "file_extension": ".py",
   "mimetype": "text/x-python",
   "name": "python",
   "nbconvert_exporter": "python",
   "pygments_lexer": "ipython3",
   "version": "3.10.9"
  }
 },
 "nbformat": 4,
 "nbformat_minor": 5
}
