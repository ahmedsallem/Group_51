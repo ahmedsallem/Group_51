{
 "cells": [
  {
   "cell_type": "code",
   "execution_count": 1,
   "id": "5693e6b3",
   "metadata": {},
   "outputs": [],
   "source": [
    "# lst = [1,2,3,4,5,6,7] list\n",
    "# t = (1,2,3,4,5,6,7)   tuple\n",
    "# s = { 1,2,3,.......}  set\n"
   ]
  },
  {
   "cell_type": "code",
   "execution_count": 2,
   "id": "7a78dafd",
   "metadata": {},
   "outputs": [
    {
     "name": "stdout",
     "output_type": "stream",
     "text": [
      "<class 'set'>\n",
      "4\n"
     ]
    }
   ],
   "source": [
    "A = {1,2,3,4}\n",
    "B = {3,4,5,6}\n",
    "print(type(A))\n",
    "print(len(B))"
   ]
  },
  {
   "cell_type": "code",
   "execution_count": 3,
   "id": "74916e72",
   "metadata": {},
   "outputs": [
    {
     "data": {
      "text/plain": [
       "{3, 4}"
      ]
     },
     "execution_count": 3,
     "metadata": {},
     "output_type": "execute_result"
    }
   ],
   "source": [
    "A.intersection(B)"
   ]
  },
  {
   "cell_type": "code",
   "execution_count": 4,
   "id": "b1d5340a",
   "metadata": {},
   "outputs": [
    {
     "data": {
      "text/plain": [
       "{1, 2, 3, 4, 5, 6}"
      ]
     },
     "execution_count": 4,
     "metadata": {},
     "output_type": "execute_result"
    }
   ],
   "source": [
    "A.union(B)"
   ]
  },
  {
   "cell_type": "code",
   "execution_count": 5,
   "id": "aaac9c89",
   "metadata": {},
   "outputs": [],
   "source": [
    "A.intersection_update(B)"
   ]
  },
  {
   "cell_type": "code",
   "execution_count": 6,
   "id": "944e2b68",
   "metadata": {},
   "outputs": [
    {
     "data": {
      "text/plain": [
       "{3, 4}"
      ]
     },
     "execution_count": 6,
     "metadata": {},
     "output_type": "execute_result"
    }
   ],
   "source": [
    "A"
   ]
  },
  {
   "cell_type": "code",
   "execution_count": 7,
   "id": "14ffe989",
   "metadata": {},
   "outputs": [],
   "source": [
    "A.add(1)"
   ]
  },
  {
   "cell_type": "code",
   "execution_count": 8,
   "id": "86339635",
   "metadata": {},
   "outputs": [
    {
     "data": {
      "text/plain": [
       "{1, 3, 4}"
      ]
     },
     "execution_count": 8,
     "metadata": {},
     "output_type": "execute_result"
    }
   ],
   "source": [
    "A"
   ]
  },
  {
   "cell_type": "code",
   "execution_count": 9,
   "id": "98e684e4",
   "metadata": {},
   "outputs": [],
   "source": [
    "A.add(1)"
   ]
  },
  {
   "cell_type": "code",
   "execution_count": 10,
   "id": "b7779da3",
   "metadata": {},
   "outputs": [
    {
     "data": {
      "text/plain": [
       "{1, 3, 4}"
      ]
     },
     "execution_count": 10,
     "metadata": {},
     "output_type": "execute_result"
    }
   ],
   "source": [
    "A"
   ]
  },
  {
   "cell_type": "code",
   "execution_count": 11,
   "id": "b86c3422",
   "metadata": {},
   "outputs": [],
   "source": [
    "A.add(2)"
   ]
  },
  {
   "cell_type": "code",
   "execution_count": 12,
   "id": "65bb0d77",
   "metadata": {},
   "outputs": [
    {
     "data": {
      "text/plain": [
       "{1, 2, 3, 4}"
      ]
     },
     "execution_count": 12,
     "metadata": {},
     "output_type": "execute_result"
    }
   ],
   "source": [
    "A"
   ]
  },
  {
   "cell_type": "code",
   "execution_count": 15,
   "id": "58a1a609",
   "metadata": {},
   "outputs": [
    {
     "ename": "TypeError",
     "evalue": "'set' object is not subscriptable",
     "output_type": "error",
     "traceback": [
      "\u001b[1;31m---------------------------------------------------------------------------\u001b[0m",
      "\u001b[1;31mTypeError\u001b[0m                                 Traceback (most recent call last)",
      "Cell \u001b[1;32mIn[15], line 1\u001b[0m\n\u001b[1;32m----> 1\u001b[0m \u001b[43mA\u001b[49m\u001b[43m[\u001b[49m\u001b[38;5;241;43m0\u001b[39;49m\u001b[43m]\u001b[49m\n",
      "\u001b[1;31mTypeError\u001b[0m: 'set' object is not subscriptable"
     ]
    }
   ],
   "source": [
    "A[0] "
   ]
  },
  {
   "cell_type": "code",
   "execution_count": 14,
   "id": "debba308",
   "metadata": {},
   "outputs": [
    {
     "data": {
      "text/plain": [
       "True"
      ]
     },
     "execution_count": 14,
     "metadata": {},
     "output_type": "execute_result"
    }
   ],
   "source": [
    "1 in A"
   ]
  },
  {
   "cell_type": "code",
   "execution_count": 16,
   "id": "582da8fc",
   "metadata": {},
   "outputs": [
    {
     "data": {
      "text/plain": [
       "{1, 2, 3, 4}"
      ]
     },
     "execution_count": 16,
     "metadata": {},
     "output_type": "execute_result"
    }
   ],
   "source": [
    "A"
   ]
  },
  {
   "cell_type": "code",
   "execution_count": 17,
   "id": "5420c329",
   "metadata": {},
   "outputs": [],
   "source": [
    "A.remove(4)"
   ]
  },
  {
   "cell_type": "code",
   "execution_count": 18,
   "id": "157921eb",
   "metadata": {},
   "outputs": [
    {
     "data": {
      "text/plain": [
       "{1, 2, 3}"
      ]
     },
     "execution_count": 18,
     "metadata": {},
     "output_type": "execute_result"
    }
   ],
   "source": [
    "A"
   ]
  },
  {
   "cell_type": "code",
   "execution_count": 19,
   "id": "62a1f230",
   "metadata": {},
   "outputs": [
    {
     "data": {
      "text/plain": [
       "{1, 2, 3}"
      ]
     },
     "execution_count": 19,
     "metadata": {},
     "output_type": "execute_result"
    }
   ],
   "source": [
    "A"
   ]
  },
  {
   "cell_type": "code",
   "execution_count": 20,
   "id": "c48007d6",
   "metadata": {},
   "outputs": [
    {
     "data": {
      "text/plain": [
       "{3, 4, 5, 6}"
      ]
     },
     "execution_count": 20,
     "metadata": {},
     "output_type": "execute_result"
    }
   ],
   "source": [
    "B"
   ]
  },
  {
   "cell_type": "code",
   "execution_count": 21,
   "id": "1f495924",
   "metadata": {},
   "outputs": [],
   "source": [
    "A.update(B)"
   ]
  },
  {
   "cell_type": "code",
   "execution_count": 22,
   "id": "20d4f14d",
   "metadata": {},
   "outputs": [
    {
     "data": {
      "text/plain": [
       "{1, 2, 3, 4, 5, 6}"
      ]
     },
     "execution_count": 22,
     "metadata": {},
     "output_type": "execute_result"
    }
   ],
   "source": [
    "A"
   ]
  },
  {
   "cell_type": "code",
   "execution_count": 23,
   "id": "5c4ac2d5",
   "metadata": {},
   "outputs": [
    {
     "data": {
      "text/plain": [
       "{1, 2, 3, 4, 5, 6, 7}"
      ]
     },
     "execution_count": 23,
     "metadata": {},
     "output_type": "execute_result"
    }
   ],
   "source": [
    "lst = [1,2,3,4,5,4,3,2,4,5,6,7,6,5,4,3,2,2,3,4,5,6,5,4]\n",
    "set(lst)"
   ]
  },
  {
   "cell_type": "markdown",
   "id": "de9d8832",
   "metadata": {},
   "source": [
    "## Dict"
   ]
  },
  {
   "cell_type": "code",
   "execution_count": 24,
   "id": "f9d39834",
   "metadata": {},
   "outputs": [],
   "source": [
    "d = {\"k1\": 10 , \"k2\":20 , \"k3\":\"Amit\"}"
   ]
  },
  {
   "cell_type": "code",
   "execution_count": 25,
   "id": "f12d9432",
   "metadata": {},
   "outputs": [
    {
     "data": {
      "text/plain": [
       "20"
      ]
     },
     "execution_count": 25,
     "metadata": {},
     "output_type": "execute_result"
    }
   ],
   "source": [
    "d[\"k2\"]"
   ]
  },
  {
   "cell_type": "code",
   "execution_count": 31,
   "id": "e2795974",
   "metadata": {},
   "outputs": [
    {
     "data": {
      "text/plain": [
       "10"
      ]
     },
     "execution_count": 31,
     "metadata": {},
     "output_type": "execute_result"
    }
   ],
   "source": [
    "d.get(\"k1\")"
   ]
  },
  {
   "cell_type": "code",
   "execution_count": 26,
   "id": "d7b85a5a",
   "metadata": {},
   "outputs": [],
   "source": [
    "d[\"k2\"] = 50"
   ]
  },
  {
   "cell_type": "code",
   "execution_count": 27,
   "id": "581e4820",
   "metadata": {},
   "outputs": [
    {
     "data": {
      "text/plain": [
       "{'k1': 10, 'k2': 50, 'k3': 'Amit'}"
      ]
     },
     "execution_count": 27,
     "metadata": {},
     "output_type": "execute_result"
    }
   ],
   "source": [
    "d"
   ]
  },
  {
   "cell_type": "code",
   "execution_count": 28,
   "id": "32066ad9",
   "metadata": {},
   "outputs": [
    {
     "data": {
      "text/plain": [
       "dict_keys(['k1', 'k2', 'k3'])"
      ]
     },
     "execution_count": 28,
     "metadata": {},
     "output_type": "execute_result"
    }
   ],
   "source": [
    "d.keys()"
   ]
  },
  {
   "cell_type": "code",
   "execution_count": 30,
   "id": "41ae6009",
   "metadata": {},
   "outputs": [
    {
     "data": {
      "text/plain": [
       "dict_values([10, 50, 'Amit'])"
      ]
     },
     "execution_count": 30,
     "metadata": {},
     "output_type": "execute_result"
    }
   ],
   "source": [
    "d.values()"
   ]
  },
  {
   "cell_type": "code",
   "execution_count": 32,
   "id": "60f4cf0f",
   "metadata": {},
   "outputs": [],
   "source": [
    "d = {\"k1\":[1,2,3,4,5,6,7,{1:1 , 2:[1,2,3,4,5,{\"k2\":[\"amit\" , \"learning\" , [2,3,4,5,6,{\"k3\":[\"  Amit_learning  \"]}]]}]}]}"
   ]
  },
  {
   "cell_type": "code",
   "execution_count": 33,
   "id": "c91f980f",
   "metadata": {},
   "outputs": [
    {
     "data": {
      "text/plain": [
       "{'k1': [1,\n",
       "  2,\n",
       "  3,\n",
       "  4,\n",
       "  5,\n",
       "  6,\n",
       "  7,\n",
       "  {1: 1,\n",
       "   2: [1,\n",
       "    2,\n",
       "    3,\n",
       "    4,\n",
       "    5,\n",
       "    {'k2': ['amit',\n",
       "      'learning',\n",
       "      [2, 3, 4, 5, 6, {'k3': ['  Amit_learning  ']}]]}]}]}"
      ]
     },
     "execution_count": 33,
     "metadata": {},
     "output_type": "execute_result"
    }
   ],
   "source": [
    "d"
   ]
  },
  {
   "cell_type": "code",
   "execution_count": 55,
   "id": "58b38f68",
   "metadata": {},
   "outputs": [],
   "source": [
    "d[\"k1\"][-1][2][-1][\"k2\"][-1][-1][\"k3\"].append(\"deep_learning\")"
   ]
  },
  {
   "cell_type": "code",
   "execution_count": 59,
   "id": "4d9fe0ff",
   "metadata": {},
   "outputs": [],
   "source": [
    "d[\"k1\"][-1][2][-1][\"k2\"][-1][-1][\"k3\"][0] = d[\"k1\"][-1][2][-1][\"k2\"][-1][-1][\"k3\"][0].strip().upper()"
   ]
  },
  {
   "cell_type": "code",
   "execution_count": 60,
   "id": "a7e49c3f",
   "metadata": {},
   "outputs": [
    {
     "data": {
      "text/plain": [
       "{'k1': [1,\n",
       "  2,\n",
       "  3,\n",
       "  4,\n",
       "  5,\n",
       "  6,\n",
       "  7,\n",
       "  {1: 1,\n",
       "   2: [1,\n",
       "    2,\n",
       "    3,\n",
       "    4,\n",
       "    5,\n",
       "    {'k2': ['amit',\n",
       "      'learning',\n",
       "      [2, 3, 4, 5, 6, {'k3': ['AMIT_LEARNING', 'deep_learning']}]]}]}]}"
      ]
     },
     "execution_count": 60,
     "metadata": {},
     "output_type": "execute_result"
    }
   ],
   "source": [
    "d"
   ]
  },
  {
   "cell_type": "code",
   "execution_count": 61,
   "id": "13ae00b4",
   "metadata": {},
   "outputs": [],
   "source": [
    "v = d[\"k1\"][-1][2][-1][\"k2\"][-1][-1][\"k3\"][1].strip().upper()"
   ]
  },
  {
   "cell_type": "code",
   "execution_count": 62,
   "id": "62c84254",
   "metadata": {},
   "outputs": [
    {
     "data": {
      "text/plain": [
       "'DEEP_LEARNING'"
      ]
     },
     "execution_count": 62,
     "metadata": {},
     "output_type": "execute_result"
    }
   ],
   "source": [
    "v"
   ]
  },
  {
   "cell_type": "code",
   "execution_count": 63,
   "id": "90d5e411",
   "metadata": {},
   "outputs": [],
   "source": [
    "d[\"k1\"][-1][2][-1][\"k2\"][-1][-1][\"k3\"][1] = v"
   ]
  },
  {
   "cell_type": "code",
   "execution_count": 64,
   "id": "eeddba35",
   "metadata": {},
   "outputs": [
    {
     "data": {
      "text/plain": [
       "{'k1': [1,\n",
       "  2,\n",
       "  3,\n",
       "  4,\n",
       "  5,\n",
       "  6,\n",
       "  7,\n",
       "  {1: 1,\n",
       "   2: [1,\n",
       "    2,\n",
       "    3,\n",
       "    4,\n",
       "    5,\n",
       "    {'k2': ['amit',\n",
       "      'learning',\n",
       "      [2, 3, 4, 5, 6, {'k3': ['AMIT_LEARNING', 'DEEP_LEARNING']}]]}]}]}"
      ]
     },
     "execution_count": 64,
     "metadata": {},
     "output_type": "execute_result"
    }
   ],
   "source": [
    "d"
   ]
  },
  {
   "cell_type": "code",
   "execution_count": 65,
   "id": "90aa8cf6",
   "metadata": {},
   "outputs": [
    {
     "data": {
      "text/plain": [
       "dict_items([('k1', [1, 2, 3, 4, 5, 6, 7, {1: 1, 2: [1, 2, 3, 4, 5, {'k2': ['amit', 'learning', [2, 3, 4, 5, 6, {'k3': ['AMIT_LEARNING', 'DEEP_LEARNING']}]]}]}])])"
      ]
     },
     "execution_count": 65,
     "metadata": {},
     "output_type": "execute_result"
    }
   ],
   "source": [
    "d.items()"
   ]
  },
  {
   "cell_type": "code",
   "execution_count": 68,
   "id": "b860b5bc",
   "metadata": {},
   "outputs": [],
   "source": [
    "dt = {\"k1\":12 , 1:\"ahmed\" , \"k3\":\"amit\"}"
   ]
  },
  {
   "cell_type": "code",
   "execution_count": 69,
   "id": "1ee77ac8",
   "metadata": {},
   "outputs": [
    {
     "data": {
      "text/plain": [
       "dict_items([('k1', 12), (1, 'ahmed'), ('k3', 'amit')])"
      ]
     },
     "execution_count": 69,
     "metadata": {},
     "output_type": "execute_result"
    }
   ],
   "source": [
    "dt.items()"
   ]
  },
  {
   "cell_type": "code",
   "execution_count": 74,
   "id": "d6a134de",
   "metadata": {},
   "outputs": [],
   "source": [
    "lst = [('k1', 12), (1, 'ahmed'), ('k3', 'amit')]"
   ]
  },
  {
   "cell_type": "code",
   "execution_count": 75,
   "id": "73633dc5",
   "metadata": {},
   "outputs": [
    {
     "data": {
      "text/plain": [
       "{'k1': 12, 1: 'ahmed', 'k3': 'amit'}"
      ]
     },
     "execution_count": 75,
     "metadata": {},
     "output_type": "execute_result"
    }
   ],
   "source": [
    "dict(lst)"
   ]
  },
  {
   "cell_type": "markdown",
   "id": "03f41493",
   "metadata": {},
   "source": [
    "## for loop"
   ]
  },
  {
   "cell_type": "code",
   "execution_count": 76,
   "id": "5c1468c6",
   "metadata": {},
   "outputs": [
    {
     "name": "stdout",
     "output_type": "stream",
     "text": [
      "1\n",
      "********************\n",
      "1\n",
      "********************\n",
      "6\n",
      "********************\n",
      "2\n",
      "********************\n",
      "4\n",
      "********************\n",
      "7\n",
      "********************\n",
      "3\n",
      "********************\n",
      "9\n",
      "********************\n",
      "8\n",
      "********************\n",
      "4\n",
      "********************\n",
      "16\n",
      "********************\n",
      "9\n",
      "********************\n",
      "5\n",
      "********************\n",
      "25\n",
      "********************\n",
      "10\n",
      "********************\n"
     ]
    }
   ],
   "source": [
    "lst = [1,2,3,4,5]\n",
    "for i in lst:\n",
    "    print(i)\n",
    "    print(\"*\" * 20)\n",
    "    print(i * i )\n",
    "    print(\"*\" * 20)\n",
    "    s = i + 5\n",
    "    print(s)\n",
    "    print(\"*\" * 20)"
   ]
  },
  {
   "cell_type": "code",
   "execution_count": 77,
   "id": "09d883b9",
   "metadata": {},
   "outputs": [
    {
     "name": "stdout",
     "output_type": "stream",
     "text": [
      "1\n",
      "2\n",
      "3\n",
      "4\n",
      "5\n"
     ]
    }
   ],
   "source": [
    "lst = [1,2,3,4,5]\n",
    "for i in lst:\n",
    "    print(i)"
   ]
  },
  {
   "cell_type": "code",
   "execution_count": 79,
   "id": "264b066d",
   "metadata": {},
   "outputs": [
    {
     "name": "stdout",
     "output_type": "stream",
     "text": [
      "15\n"
     ]
    }
   ],
   "source": [
    "s = 0 \n",
    "for i in lst:\n",
    "    s = s + i\n",
    "print(s)"
   ]
  },
  {
   "cell_type": "code",
   "execution_count": 80,
   "id": "84a253bd",
   "metadata": {},
   "outputs": [
    {
     "name": "stdout",
     "output_type": "stream",
     "text": [
      "15\n"
     ]
    }
   ],
   "source": [
    "s = 0 \n",
    "for i in lst:\n",
    "    s += i\n",
    "print(s)"
   ]
  },
  {
   "cell_type": "code",
   "execution_count": 82,
   "id": "c00fcd33",
   "metadata": {},
   "outputs": [
    {
     "name": "stdout",
     "output_type": "stream",
     "text": [
      "1\n",
      "2\n",
      "3\n",
      "4\n",
      "5\n",
      "6\n",
      "7\n",
      "8\n",
      "9\n",
      "10\n"
     ]
    }
   ],
   "source": [
    "# for i in range(start = 0 , end , step = 1):\n",
    "\n",
    "for i in range(1 , 11):\n",
    "    print(i)"
   ]
  },
  {
   "cell_type": "code",
   "execution_count": 86,
   "id": "a598bfe3",
   "metadata": {},
   "outputs": [
    {
     "name": "stdout",
     "output_type": "stream",
     "text": [
      "number 1 is Odd\n",
      "number 2 is Even\n",
      "number 3 is Odd\n",
      "number 4 is Even\n",
      "number 5 is Odd\n",
      "number 6 is Even\n",
      "number 7 is Odd\n",
      "number 8 is Even\n",
      "number 9 is Odd\n",
      "number 10 is Even\n",
      "number 11 is Odd\n",
      "number 12 is Even\n",
      "number 13 is Odd\n",
      "number 14 is Even\n",
      "number 15 is Odd\n",
      "number 16 is Even\n",
      "number 17 is Odd\n",
      "number 18 is Even\n",
      "number 19 is Odd\n",
      "number 20 is Even\n",
      "number 21 is Odd\n",
      "number 22 is Even\n",
      "number 23 is Odd\n",
      "number 24 is Even\n",
      "number 25 is Odd\n",
      "number 26 is Even\n",
      "number 27 is Odd\n",
      "number 28 is Even\n",
      "number 29 is Odd\n",
      "number 30 is Even\n",
      "number 31 is Odd\n",
      "number 32 is Even\n",
      "number 33 is Odd\n",
      "number 34 is Even\n",
      "number 35 is Odd\n",
      "number 36 is Even\n",
      "number 37 is Odd\n",
      "number 38 is Even\n",
      "number 39 is Odd\n",
      "number 40 is Even\n",
      "number 41 is Odd\n",
      "number 42 is Even\n",
      "number 43 is Odd\n",
      "number 44 is Even\n",
      "number 45 is Odd\n",
      "number 46 is Even\n",
      "number 47 is Odd\n",
      "number 48 is Even\n",
      "number 49 is Odd\n",
      "number 50 is Even\n",
      "number 51 is Odd\n",
      "number 52 is Even\n",
      "number 53 is Odd\n",
      "number 54 is Even\n",
      "number 55 is Odd\n",
      "number 56 is Even\n",
      "number 57 is Odd\n",
      "number 58 is Even\n",
      "number 59 is Odd\n",
      "number 60 is Even\n",
      "number 61 is Odd\n",
      "number 62 is Even\n",
      "number 63 is Odd\n",
      "number 64 is Even\n",
      "number 65 is Odd\n",
      "number 66 is Even\n",
      "number 67 is Odd\n",
      "number 68 is Even\n",
      "number 69 is Odd\n",
      "number 70 is Even\n",
      "number 71 is Odd\n",
      "number 72 is Even\n",
      "number 73 is Odd\n",
      "number 74 is Even\n",
      "number 75 is Odd\n",
      "number 76 is Even\n",
      "number 77 is Odd\n",
      "number 78 is Even\n",
      "number 79 is Odd\n",
      "number 80 is Even\n",
      "number 81 is Odd\n",
      "number 82 is Even\n",
      "number 83 is Odd\n",
      "number 84 is Even\n",
      "number 85 is Odd\n",
      "number 86 is Even\n",
      "number 87 is Odd\n",
      "number 88 is Even\n",
      "number 89 is Odd\n",
      "number 90 is Even\n",
      "number 91 is Odd\n",
      "number 92 is Even\n",
      "number 93 is Odd\n",
      "number 94 is Even\n",
      "number 95 is Odd\n",
      "number 96 is Even\n",
      "number 97 is Odd\n",
      "number 98 is Even\n",
      "number 99 is Odd\n",
      "number 100 is Even\n"
     ]
    }
   ],
   "source": [
    "for i in range(1,101):\n",
    "    if i % 2 == 0:\n",
    "        print(f\"number {i} is Even\")\n",
    "    else:\n",
    "        print(f\"number {i} is Odd\")"
   ]
  },
  {
   "cell_type": "code",
   "execution_count": 89,
   "id": "7654d850",
   "metadata": {},
   "outputs": [
    {
     "name": "stdout",
     "output_type": "stream",
     "text": [
      "Enter the number 12\n",
      "Enter the number 13\n",
      "Enter the number 14\n",
      "Enter the number 15\n",
      "Enter the number 16\n"
     ]
    }
   ],
   "source": [
    "lst = []\n",
    "for i in range(5):\n",
    "    x = int(input(\"Enter the number \"))\n",
    "    lst.append(x)"
   ]
  },
  {
   "cell_type": "code",
   "execution_count": 90,
   "id": "5a91a4dd",
   "metadata": {},
   "outputs": [
    {
     "name": "stdout",
     "output_type": "stream",
     "text": [
      "[12, 13, 14, 15, 16]\n"
     ]
    }
   ],
   "source": [
    "print(lst)"
   ]
  },
  {
   "cell_type": "code",
   "execution_count": 91,
   "id": "1ad5db9e",
   "metadata": {},
   "outputs": [
    {
     "name": "stdout",
     "output_type": "stream",
     "text": [
      "Enter the number 12\n",
      "Enter the number 13\n",
      "Enter the number 14\n",
      "Enter the number 15\n",
      "Enter the number 16\n",
      "[12, 13, 14, 15, 16]\n"
     ]
    }
   ],
   "source": [
    "lst = []\n",
    "for i in range(5):\n",
    "    lst.append(int(input(\"Enter the number \")))\n",
    "print(lst)"
   ]
  },
  {
   "cell_type": "code",
   "execution_count": 93,
   "id": "be92a175",
   "metadata": {},
   "outputs": [
    {
     "name": "stdout",
     "output_type": "stream",
     "text": [
      "Enter Username amit learning!@#$%^&\n",
      "amitlearning\n"
     ]
    }
   ],
   "source": [
    "ill = \"!@#$%^&*()? ?|~\"\n",
    "user_name =input(\"Enter Username \")\n",
    "clean = ''\n",
    "for i in user_name:\n",
    "    if i in ill:\n",
    "        clean +=''\n",
    "    else:\n",
    "        clean +=i\n",
    "print(clean)"
   ]
  },
  {
   "cell_type": "code",
   "execution_count": 95,
   "id": "125f7fa2",
   "metadata": {},
   "outputs": [
    {
     "name": "stdout",
     "output_type": "stream",
     "text": [
      "1\n",
      "2\n",
      "3\n",
      "4\n"
     ]
    }
   ],
   "source": [
    "lst = [1,2,3,4,5,6,7,8,9,10]\n",
    "for i in lst :\n",
    "    if i == 5:\n",
    "        break\n",
    "    else:\n",
    "        print(i)"
   ]
  },
  {
   "cell_type": "code",
   "execution_count": 106,
   "id": "fec58cbc",
   "metadata": {},
   "outputs": [
    {
     "name": "stdout",
     "output_type": "stream",
     "text": [
      "1\n",
      "2\n",
      "3\n",
      "4\n",
      "6\n",
      "7\n",
      "8\n",
      "9\n"
     ]
    }
   ],
   "source": [
    "lst = [1,2,3,4,5,6,7,8,9,10]\n",
    "for i in lst :\n",
    "    if i == 5 or i == 10:\n",
    "        continue\n",
    "    else:\n",
    "        print(i)"
   ]
  },
  {
   "cell_type": "code",
   "execution_count": 107,
   "id": "a27ed625",
   "metadata": {},
   "outputs": [
    {
     "name": "stdout",
     "output_type": "stream",
     "text": [
      "1\n",
      "2\n",
      "3\n",
      "4\n",
      "5\n",
      "6\n",
      "7\n",
      "8\n",
      "9\n",
      "10\n"
     ]
    }
   ],
   "source": [
    "lst = [1,2,3,4,5,6,7,8,9,10]\n",
    "for i in lst :\n",
    "    if i == 5 or i == 10:\n",
    "        pass\n",
    "        print(i)\n",
    "    else:\n",
    "        print(i)"
   ]
  },
  {
   "cell_type": "code",
   "execution_count": 108,
   "id": "2153f548",
   "metadata": {},
   "outputs": [],
   "source": [
    "lst = [1,2,3,4]\n",
    "lst2 = []\n",
    "for i in lst :\n",
    "    lst2.append(i * 2 )"
   ]
  },
  {
   "cell_type": "code",
   "execution_count": 109,
   "id": "99e16da1",
   "metadata": {},
   "outputs": [
    {
     "data": {
      "text/plain": [
       "[2, 4, 6, 8]"
      ]
     },
     "execution_count": 109,
     "metadata": {},
     "output_type": "execute_result"
    }
   ],
   "source": [
    "lst2"
   ]
  },
  {
   "cell_type": "code",
   "execution_count": 112,
   "id": "adbfad7e",
   "metadata": {},
   "outputs": [
    {
     "data": {
      "text/plain": [
       "[2, 4, 6, 8]"
      ]
     },
     "execution_count": 112,
     "metadata": {},
     "output_type": "execute_result"
    }
   ],
   "source": [
    "[i* 2 for i in lst]"
   ]
  },
  {
   "cell_type": "code",
   "execution_count": 116,
   "id": "b6328d26",
   "metadata": {},
   "outputs": [],
   "source": [
    "x = True if 2==2 else False"
   ]
  },
  {
   "cell_type": "code",
   "execution_count": 117,
   "id": "b2589aa8",
   "metadata": {},
   "outputs": [
    {
     "data": {
      "text/plain": [
       "True"
      ]
     },
     "execution_count": 117,
     "metadata": {},
     "output_type": "execute_result"
    }
   ],
   "source": [
    "x"
   ]
  },
  {
   "cell_type": "code",
   "execution_count": 118,
   "id": "f808c123",
   "metadata": {},
   "outputs": [],
   "source": [
    "lst = [[1,2,3] , [2,3,4]]"
   ]
  },
  {
   "cell_type": "code",
   "execution_count": 126,
   "id": "a34560d9",
   "metadata": {},
   "outputs": [
    {
     "name": "stdout",
     "output_type": "stream",
     "text": [
      "6\n",
      "9\n",
      "15\n"
     ]
    }
   ],
   "source": [
    "s_lst = 0\n",
    "for i in lst:\n",
    "    s = 0\n",
    "    for j in i:\n",
    "        s = s+ j \n",
    "    print(s)\n",
    "    s_lst += s\n",
    "print(s_lst)"
   ]
  },
  {
   "cell_type": "code",
   "execution_count": 133,
   "id": "d96e237b",
   "metadata": {},
   "outputs": [
    {
     "name": "stdout",
     "output_type": "stream",
     "text": [
      "6\n",
      "9\n"
     ]
    }
   ],
   "source": [
    "for i in lst :\n",
    "    print(sum(i))"
   ]
  },
  {
   "cell_type": "code",
   "execution_count": 137,
   "id": "1a77d96b",
   "metadata": {},
   "outputs": [
    {
     "name": "stdout",
     "output_type": "stream",
     "text": [
      "6\n",
      "9\n"
     ]
    }
   ],
   "source": [
    "for i in lst :\n",
    "    s = 0\n",
    "    for j in i:\n",
    "        s += j\n",
    "    print(s)    "
   ]
  },
  {
   "cell_type": "code",
   "execution_count": 134,
   "id": "550641aa",
   "metadata": {},
   "outputs": [],
   "source": [
    "i = [1,2,3]\n",
    "s = 0\n",
    "for j in i:\n",
    "    s += j"
   ]
  },
  {
   "cell_type": "code",
   "execution_count": 135,
   "id": "d05cb0af",
   "metadata": {},
   "outputs": [
    {
     "data": {
      "text/plain": [
       "6"
      ]
     },
     "execution_count": 135,
     "metadata": {},
     "output_type": "execute_result"
    }
   ],
   "source": [
    "s"
   ]
  },
  {
   "cell_type": "code",
   "execution_count": 142,
   "id": "80e35ccd",
   "metadata": {},
   "outputs": [
    {
     "data": {
      "text/plain": [
       "15"
      ]
     },
     "execution_count": 142,
     "metadata": {},
     "output_type": "execute_result"
    }
   ],
   "source": [
    "sum([sum(i) for i in lst])"
   ]
  },
  {
   "cell_type": "code",
   "execution_count": 141,
   "id": "e8e850d1",
   "metadata": {},
   "outputs": [
    {
     "name": "stdout",
     "output_type": "stream",
     "text": [
      "6\n",
      "9\n",
      "15\n"
     ]
    }
   ],
   "source": [
    "s_l = 0\n",
    "for i in lst :\n",
    "    s = 0\n",
    "    for j in i:\n",
    "        s += j\n",
    "    print(s)\n",
    "    s_l = s_l + s\n",
    "print(s_l)"
   ]
  },
  {
   "cell_type": "markdown",
   "id": "286856e6",
   "metadata": {},
   "source": [
    "## Function"
   ]
  },
  {
   "cell_type": "code",
   "execution_count": 157,
   "id": "e640dfea",
   "metadata": {},
   "outputs": [],
   "source": [
    "def add(n1 , n2, n3):\n",
    "    s = n1 + n2  + n3\n",
    "    return s "
   ]
  },
  {
   "cell_type": "code",
   "execution_count": 158,
   "id": "4b5adabf",
   "metadata": {},
   "outputs": [],
   "source": [
    "x = add(10,10,20)"
   ]
  },
  {
   "cell_type": "code",
   "execution_count": 159,
   "id": "280f7fb3",
   "metadata": {},
   "outputs": [
    {
     "data": {
      "text/plain": [
       "40"
      ]
     },
     "execution_count": 159,
     "metadata": {},
     "output_type": "execute_result"
    }
   ],
   "source": [
    "x"
   ]
  },
  {
   "cell_type": "code",
   "execution_count": 162,
   "id": "b4372994",
   "metadata": {},
   "outputs": [],
   "source": [
    "def add(*n):\n",
    "    s = 0\n",
    "    for i in n:\n",
    "        s+=i\n",
    "    return s"
   ]
  },
  {
   "cell_type": "code",
   "execution_count": 164,
   "id": "3fb79589",
   "metadata": {},
   "outputs": [
    {
     "data": {
      "text/plain": [
       "167"
      ]
     },
     "execution_count": 164,
     "metadata": {},
     "output_type": "execute_result"
    }
   ],
   "source": [
    "add(1,2,3,4,5,6 ,3,4,5,6,67,5,4,3,3,4,6,6,4,4,4,6,7,5)"
   ]
  },
  {
   "cell_type": "code",
   "execution_count": 165,
   "id": "1f51dd13",
   "metadata": {},
   "outputs": [],
   "source": [
    "def check(n):\n",
    "    if n % 2 == 0:\n",
    "        return \"Even\"\n",
    "    else:\n",
    "        return \"Odd\""
   ]
  },
  {
   "cell_type": "code",
   "execution_count": 166,
   "id": "f40d7cf2",
   "metadata": {},
   "outputs": [
    {
     "data": {
      "text/plain": [
       "'Even'"
      ]
     },
     "execution_count": 166,
     "metadata": {},
     "output_type": "execute_result"
    }
   ],
   "source": [
    "check(12)"
   ]
  },
  {
   "cell_type": "code",
   "execution_count": 168,
   "id": "a8779404",
   "metadata": {},
   "outputs": [
    {
     "data": {
      "text/plain": [
       "['Odd', 'Even', 'Odd', 'Even', 'Odd', 'Even', 'Odd', 'Even', 'Odd', 'Even']"
      ]
     },
     "execution_count": 168,
     "metadata": {},
     "output_type": "execute_result"
    }
   ],
   "source": [
    "# map(fun , seq)\n",
    "lst = [1,2,3,4,5,6,7,8,9,10]\n",
    "list(map(check , lst))"
   ]
  },
  {
   "cell_type": "code",
   "execution_count": 171,
   "id": "279f2ea1",
   "metadata": {},
   "outputs": [
    {
     "data": {
      "text/plain": [
       "[2, 4, 6, 8, 10]"
      ]
     },
     "execution_count": 171,
     "metadata": {},
     "output_type": "execute_result"
    }
   ],
   "source": [
    "def check_even(n):\n",
    "    if n % 2 == 0:\n",
    "        return True\n",
    "    else:\n",
    "        return False\n",
    "\n",
    "list(filter(check_even , lst))"
   ]
  },
  {
   "cell_type": "code",
   "execution_count": 172,
   "id": "e8a51251",
   "metadata": {},
   "outputs": [
    {
     "data": {
      "text/plain": [
       "[2, 4, 6, 8, 10]"
      ]
     },
     "execution_count": 172,
     "metadata": {},
     "output_type": "execute_result"
    }
   ],
   "source": [
    "list(filter(lambda x : x % 2 ==0 , lst))"
   ]
  },
  {
   "cell_type": "code",
   "execution_count": 173,
   "id": "4cce3ecf",
   "metadata": {},
   "outputs": [],
   "source": [
    "lam = lambda x , y : x + y  "
   ]
  },
  {
   "cell_type": "code",
   "execution_count": 174,
   "id": "ad85c09d",
   "metadata": {},
   "outputs": [
    {
     "data": {
      "text/plain": [
       "24"
      ]
     },
     "execution_count": 174,
     "metadata": {},
     "output_type": "execute_result"
    }
   ],
   "source": [
    "lam(12,12)"
   ]
  },
  {
   "cell_type": "code",
   "execution_count": 176,
   "id": "6a274a80",
   "metadata": {},
   "outputs": [],
   "source": [
    "%run Session_4_python.ipynb"
   ]
  },
  {
   "cell_type": "code",
   "execution_count": 177,
   "id": "172c3867",
   "metadata": {},
   "outputs": [
    {
     "data": {
      "text/plain": [
       "False"
      ]
     },
     "execution_count": 177,
     "metadata": {},
     "output_type": "execute_result"
    }
   ],
   "source": [
    "check(\"lalalalalala\")"
   ]
  },
  {
   "cell_type": "code",
   "execution_count": 178,
   "id": "18a80dcd",
   "metadata": {},
   "outputs": [
    {
     "data": {
      "text/plain": [
       "21"
      ]
     },
     "execution_count": 178,
     "metadata": {},
     "output_type": "execute_result"
    }
   ],
   "source": [
    "add(1,2,3,4,5,6)"
   ]
  },
  {
   "cell_type": "code",
   "execution_count": 182,
   "id": "45da74d9",
   "metadata": {},
   "outputs": [],
   "source": [
    "import Session_4_python as sp"
   ]
  },
  {
   "cell_type": "code",
   "execution_count": 183,
   "id": "af16ab82",
   "metadata": {},
   "outputs": [
    {
     "data": {
      "text/plain": [
       "15"
      ]
     },
     "execution_count": 183,
     "metadata": {},
     "output_type": "execute_result"
    }
   ],
   "source": [
    "sp.add(1,2,3,4,5)"
   ]
  },
  {
   "cell_type": "code",
   "execution_count": 181,
   "id": "96a54f43",
   "metadata": {},
   "outputs": [
    {
     "data": {
      "text/plain": [
       "False"
      ]
     },
     "execution_count": 181,
     "metadata": {},
     "output_type": "execute_result"
    }
   ],
   "source": [
    "Session_4_python.check(\"lala\")"
   ]
  },
  {
   "cell_type": "code",
   "execution_count": 184,
   "id": "84dddd93",
   "metadata": {},
   "outputs": [],
   "source": [
    "from Session_4_python import check , add"
   ]
  },
  {
   "cell_type": "code",
   "execution_count": 185,
   "id": "41985050",
   "metadata": {},
   "outputs": [
    {
     "data": {
      "text/plain": [
       "False"
      ]
     },
     "execution_count": 185,
     "metadata": {},
     "output_type": "execute_result"
    }
   ],
   "source": [
    "check(\"kdfkffk\")"
   ]
  },
  {
   "cell_type": "code",
   "execution_count": 186,
   "id": "1c0e1c98",
   "metadata": {},
   "outputs": [
    {
     "data": {
      "text/plain": [
       "['__builtins__',\n",
       " '__cached__',\n",
       " '__doc__',\n",
       " '__file__',\n",
       " '__loader__',\n",
       " '__name__',\n",
       " '__package__',\n",
       " '__spec__',\n",
       " 'add',\n",
       " 'check']"
      ]
     },
     "execution_count": 186,
     "metadata": {},
     "output_type": "execute_result"
    }
   ],
   "source": [
    "import Session_4_python\n",
    "dir(Session_4_python)"
   ]
  },
  {
   "cell_type": "code",
   "execution_count": 187,
   "id": "419c00d4",
   "metadata": {},
   "outputs": [],
   "source": [
    "import random"
   ]
  },
  {
   "cell_type": "code",
   "execution_count": 188,
   "id": "a4d79add",
   "metadata": {},
   "outputs": [
    {
     "data": {
      "text/plain": [
       "['BPF',\n",
       " 'LOG4',\n",
       " 'NV_MAGICCONST',\n",
       " 'RECIP_BPF',\n",
       " 'Random',\n",
       " 'SG_MAGICCONST',\n",
       " 'SystemRandom',\n",
       " 'TWOPI',\n",
       " '_ONE',\n",
       " '_Sequence',\n",
       " '_Set',\n",
       " '__all__',\n",
       " '__builtins__',\n",
       " '__cached__',\n",
       " '__doc__',\n",
       " '__file__',\n",
       " '__loader__',\n",
       " '__name__',\n",
       " '__package__',\n",
       " '__spec__',\n",
       " '_accumulate',\n",
       " '_acos',\n",
       " '_bisect',\n",
       " '_ceil',\n",
       " '_cos',\n",
       " '_e',\n",
       " '_exp',\n",
       " '_floor',\n",
       " '_index',\n",
       " '_inst',\n",
       " '_isfinite',\n",
       " '_log',\n",
       " '_os',\n",
       " '_pi',\n",
       " '_random',\n",
       " '_repeat',\n",
       " '_sha512',\n",
       " '_sin',\n",
       " '_sqrt',\n",
       " '_test',\n",
       " '_test_generator',\n",
       " '_urandom',\n",
       " '_warn',\n",
       " 'betavariate',\n",
       " 'choice',\n",
       " 'choices',\n",
       " 'expovariate',\n",
       " 'gammavariate',\n",
       " 'gauss',\n",
       " 'getrandbits',\n",
       " 'getstate',\n",
       " 'lognormvariate',\n",
       " 'normalvariate',\n",
       " 'paretovariate',\n",
       " 'randbytes',\n",
       " 'randint',\n",
       " 'random',\n",
       " 'randrange',\n",
       " 'sample',\n",
       " 'seed',\n",
       " 'setstate',\n",
       " 'shuffle',\n",
       " 'triangular',\n",
       " 'uniform',\n",
       " 'vonmisesvariate',\n",
       " 'weibullvariate']"
      ]
     },
     "execution_count": 188,
     "metadata": {},
     "output_type": "execute_result"
    }
   ],
   "source": [
    "dir(random)"
   ]
  },
  {
   "cell_type": "code",
   "execution_count": 229,
   "id": "a1667d78",
   "metadata": {},
   "outputs": [
    {
     "data": {
      "text/plain": [
       "1"
      ]
     },
     "execution_count": 229,
     "metadata": {},
     "output_type": "execute_result"
    }
   ],
   "source": [
    "random.randint(1,10)  #end included"
   ]
  },
  {
   "cell_type": "code",
   "execution_count": 230,
   "id": "061a425f",
   "metadata": {},
   "outputs": [
    {
     "data": {
      "text/plain": [
       "0.5852831395324684"
      ]
     },
     "execution_count": 230,
     "metadata": {},
     "output_type": "execute_result"
    }
   ],
   "source": [
    "random.random() #0 to 1"
   ]
  },
  {
   "cell_type": "code",
   "execution_count": 231,
   "id": "73e0534a",
   "metadata": {},
   "outputs": [],
   "source": [
    "x = [\"amit\" , \"leaning\" , \"deep\"]\n",
    "random.shuffle(x)"
   ]
  },
  {
   "cell_type": "code",
   "execution_count": 232,
   "id": "9c3f3d50",
   "metadata": {},
   "outputs": [
    {
     "data": {
      "text/plain": [
       "['amit', 'leaning', 'deep']"
      ]
     },
     "execution_count": 232,
     "metadata": {},
     "output_type": "execute_result"
    }
   ],
   "source": [
    "x"
   ]
  },
  {
   "cell_type": "code",
   "execution_count": 233,
   "id": "a3282c8a",
   "metadata": {},
   "outputs": [
    {
     "data": {
      "text/plain": [
       "[5, 2, 3, 8, 7, 1, 6, 4]"
      ]
     },
     "execution_count": 233,
     "metadata": {},
     "output_type": "execute_result"
    }
   ],
   "source": [
    "lst = [1,2,3,4,5,6,7,8]\n",
    "random.shuffle(lst)\n",
    "lst"
   ]
  },
  {
   "cell_type": "code",
   "execution_count": 234,
   "id": "6174a3dd",
   "metadata": {},
   "outputs": [
    {
     "data": {
      "text/plain": [
       "'deep'"
      ]
     },
     "execution_count": 234,
     "metadata": {},
     "output_type": "execute_result"
    }
   ],
   "source": [
    "random.choice(x)"
   ]
  },
  {
   "cell_type": "code",
   "execution_count": 235,
   "id": "cff0d9db",
   "metadata": {},
   "outputs": [
    {
     "data": {
      "text/plain": [
       "2"
      ]
     },
     "execution_count": 235,
     "metadata": {},
     "output_type": "execute_result"
    }
   ],
   "source": [
    "random.randrange(1,10) #end not included"
   ]
  },
  {
   "cell_type": "code",
   "execution_count": 238,
   "id": "86514b76",
   "metadata": {},
   "outputs": [],
   "source": [
    "x = \"G\"\n",
    "def outer():\n",
    "    x = \"L\"\n",
    "    print(x)"
   ]
  },
  {
   "cell_type": "code",
   "execution_count": 239,
   "id": "9511a7fc",
   "metadata": {},
   "outputs": [
    {
     "name": "stdout",
     "output_type": "stream",
     "text": [
      "L\n",
      "G\n"
     ]
    }
   ],
   "source": [
    "outer()\n",
    "print(x)"
   ]
  },
  {
   "cell_type": "code",
   "execution_count": 240,
   "id": "66324dff",
   "metadata": {},
   "outputs": [],
   "source": [
    "x = \"G\"\n",
    "def outer():\n",
    "    global x\n",
    "    x = \"L\"\n",
    "    print(x)"
   ]
  },
  {
   "cell_type": "code",
   "execution_count": 241,
   "id": "b3aed628",
   "metadata": {},
   "outputs": [
    {
     "name": "stdout",
     "output_type": "stream",
     "text": [
      "L\n",
      "L\n"
     ]
    }
   ],
   "source": [
    "outer()\n",
    "print(x)"
   ]
  },
  {
   "cell_type": "code",
   "execution_count": 247,
   "id": "0014e5dc",
   "metadata": {},
   "outputs": [],
   "source": [
    "x = \"G\"\n",
    "def outer():\n",
    "    x = \"L\"\n",
    "    print(x)\n",
    "    def inner():\n",
    "        nonlocal x\n",
    "        x = \"inner\"\n",
    "        print(x)\n",
    "    inner()\n",
    "    print(x)"
   ]
  },
  {
   "cell_type": "code",
   "execution_count": 248,
   "id": "d8f73a3e",
   "metadata": {},
   "outputs": [
    {
     "name": "stdout",
     "output_type": "stream",
     "text": [
      "L\n",
      "inner\n",
      "inner\n",
      "G\n"
     ]
    }
   ],
   "source": [
    "outer()\n",
    "print(x)"
   ]
  },
  {
   "cell_type": "code",
   "execution_count": 249,
   "id": "c1517ec7",
   "metadata": {},
   "outputs": [],
   "source": [
    "x = \"G\"\n",
    "def outer():\n",
    "    x = \"L\"\n",
    "    print(x)\n",
    "    def inner():\n",
    "        global x\n",
    "        x = \"inner\"\n",
    "        print(x)\n",
    "    inner()\n",
    "    print(x)"
   ]
  },
  {
   "cell_type": "code",
   "execution_count": 250,
   "id": "c2ac58ba",
   "metadata": {},
   "outputs": [
    {
     "name": "stdout",
     "output_type": "stream",
     "text": [
      "L\n",
      "inner\n",
      "L\n",
      "inner\n"
     ]
    }
   ],
   "source": [
    "outer()\n",
    "print(x)"
   ]
  },
  {
   "cell_type": "code",
   "execution_count": 252,
   "id": "84c3f7e2",
   "metadata": {},
   "outputs": [
    {
     "name": "stdout",
     "output_type": "stream",
     "text": [
      "asdfghjk\n"
     ]
    }
   ],
   "source": [
    "try:\n",
    "    print(\"asdfghjk\")\n",
    "except:\n",
    "    print(\"check your var\")"
   ]
  },
  {
   "cell_type": "code",
   "execution_count": 258,
   "id": "ece48478",
   "metadata": {},
   "outputs": [
    {
     "name": "stdout",
     "output_type": "stream",
     "text": [
      "asdfghjk\n",
      "good\n",
      "Great\n"
     ]
    }
   ],
   "source": [
    "try:\n",
    "    print(\"asdfghjk\")\n",
    "except:\n",
    "    print(\"check your var\")\n",
    "else:\n",
    "    print(\"good\")\n",
    "finally:\n",
    "    print(\"Great\")"
   ]
  },
  {
   "cell_type": "code",
   "execution_count": 259,
   "id": "499d500f",
   "metadata": {},
   "outputs": [],
   "source": [
    "function1 = lambda x : x * x "
   ]
  },
  {
   "cell_type": "code",
   "execution_count": 260,
   "id": "8387ee95",
   "metadata": {},
   "outputs": [
    {
     "data": {
      "text/plain": [
       "4"
      ]
     },
     "execution_count": 260,
     "metadata": {},
     "output_type": "execute_result"
    }
   ],
   "source": [
    "function1(2)"
   ]
  },
  {
   "cell_type": "code",
   "execution_count": 261,
   "id": "86d44e52",
   "metadata": {},
   "outputs": [],
   "source": [
    "h_o = lambda x , function1 : x + function1(x)"
   ]
  },
  {
   "cell_type": "code",
   "execution_count": 263,
   "id": "677e095e",
   "metadata": {},
   "outputs": [
    {
     "data": {
      "text/plain": [
       "6"
      ]
     },
     "execution_count": 263,
     "metadata": {},
     "output_type": "execute_result"
    }
   ],
   "source": [
    "h_o(2 , lambda x : x * x )"
   ]
  },
  {
   "cell_type": "code",
   "execution_count": 264,
   "id": "bdcdddcb",
   "metadata": {},
   "outputs": [],
   "source": [
    "def f(n):\n",
    "    if n == 1:\n",
    "        return 1 \n",
    "    else:\n",
    "        return n * f(n-1)"
   ]
  },
  {
   "cell_type": "code",
   "execution_count": 265,
   "id": "ffe69bf9",
   "metadata": {},
   "outputs": [
    {
     "data": {
      "text/plain": [
       "120"
      ]
     },
     "execution_count": 265,
     "metadata": {},
     "output_type": "execute_result"
    }
   ],
   "source": [
    "f(5)"
   ]
  },
  {
   "cell_type": "code",
   "execution_count": 1,
   "id": "b399faf1",
   "metadata": {},
   "outputs": [
    {
     "name": "stdout",
     "output_type": "stream",
     "text": [
      "0  Amit \n",
      "1  Amit \n",
      "2  Amit \n",
      "3  Amit \n",
      "4  Amit \n",
      "5  Amit \n",
      "6  Amit \n",
      "7  Amit \n",
      "8  Amit \n",
      "9  Amit \n",
      "10  Amit \n",
      "11  Amit \n",
      "12  Amit \n",
      "13  Amit \n",
      "14  Amit \n",
      "15  Amit \n",
      "16  Amit \n",
      "17  Amit \n",
      "18  Amit \n",
      "19  Amit \n",
      "20  Amit \n"
     ]
    }
   ],
   "source": [
    "x = 0 \n",
    "while x <= 20:\n",
    "    print(x , \" Amit \")\n",
    "    x += 1 "
   ]
  },
  {
   "cell_type": "code",
   "execution_count": 5,
   "id": "f9ebb51a",
   "metadata": {},
   "outputs": [],
   "source": [
    "# f = open(\"test.txt\" , \"x\")"
   ]
  },
  {
   "cell_type": "code",
   "execution_count": 6,
   "id": "3bb05831",
   "metadata": {},
   "outputs": [],
   "source": [
    "f = open(\"test.txt\" , \"r\")"
   ]
  },
  {
   "cell_type": "code",
   "execution_count": 7,
   "id": "e56c9253",
   "metadata": {},
   "outputs": [
    {
     "data": {
      "text/plain": [
       "'my name is amit'"
      ]
     },
     "execution_count": 7,
     "metadata": {},
     "output_type": "execute_result"
    }
   ],
   "source": [
    "f.read()"
   ]
  },
  {
   "cell_type": "code",
   "execution_count": 14,
   "id": "551055d8",
   "metadata": {},
   "outputs": [],
   "source": [
    "# f.readlines()"
   ]
  },
  {
   "cell_type": "code",
   "execution_count": 15,
   "id": "f9fdf47e",
   "metadata": {},
   "outputs": [
    {
     "ename": "UnsupportedOperation",
     "evalue": "not writable",
     "output_type": "error",
     "traceback": [
      "\u001b[1;31m---------------------------------------------------------------------------\u001b[0m",
      "\u001b[1;31mUnsupportedOperation\u001b[0m                      Traceback (most recent call last)",
      "Cell \u001b[1;32mIn[15], line 1\u001b[0m\n\u001b[1;32m----> 1\u001b[0m \u001b[43mf\u001b[49m\u001b[38;5;241;43m.\u001b[39;49m\u001b[43mwrite\u001b[49m\u001b[43m(\u001b[49m\u001b[38;5;124;43m\"\u001b[39;49m\u001b[38;5;124;43mmy name is ahmed\u001b[39;49m\u001b[38;5;124;43m\"\u001b[39;49m\u001b[43m)\u001b[49m\n",
      "\u001b[1;31mUnsupportedOperation\u001b[0m: not writable"
     ]
    }
   ],
   "source": [
    "f.write(\"my name is ahmed\")"
   ]
  },
  {
   "cell_type": "code",
   "execution_count": 16,
   "id": "64621007",
   "metadata": {},
   "outputs": [],
   "source": [
    "f.close()"
   ]
  },
  {
   "cell_type": "code",
   "execution_count": 17,
   "id": "18d8b49c",
   "metadata": {},
   "outputs": [],
   "source": [
    "f = open(\"test.txt\" , \"w\")"
   ]
  },
  {
   "cell_type": "code",
   "execution_count": 19,
   "id": "af436bbd",
   "metadata": {},
   "outputs": [],
   "source": [
    "# f.read()"
   ]
  },
  {
   "cell_type": "code",
   "execution_count": 20,
   "id": "5ca91f72",
   "metadata": {},
   "outputs": [
    {
     "data": {
      "text/plain": [
       "16"
      ]
     },
     "execution_count": 20,
     "metadata": {},
     "output_type": "execute_result"
    }
   ],
   "source": [
    "f.write(\"my name is ahmed\")"
   ]
  },
  {
   "cell_type": "code",
   "execution_count": 21,
   "id": "3c6a6ee0",
   "metadata": {},
   "outputs": [],
   "source": [
    "f.close()"
   ]
  },
  {
   "cell_type": "code",
   "execution_count": 22,
   "id": "6a2e46ef",
   "metadata": {},
   "outputs": [],
   "source": [
    "f = open(\"test.txt\" , 'a')"
   ]
  },
  {
   "cell_type": "code",
   "execution_count": 23,
   "id": "b4bb0abd",
   "metadata": {},
   "outputs": [
    {
     "data": {
      "text/plain": [
       "14"
      ]
     },
     "execution_count": 23,
     "metadata": {},
     "output_type": "execute_result"
    }
   ],
   "source": [
    "f.write(\"\\n my age is 30\")"
   ]
  },
  {
   "cell_type": "code",
   "execution_count": 24,
   "id": "99be5a95",
   "metadata": {},
   "outputs": [],
   "source": [
    "f.close()"
   ]
  },
  {
   "cell_type": "code",
   "execution_count": 26,
   "id": "80dac03a",
   "metadata": {},
   "outputs": [
    {
     "name": "stdout",
     "output_type": "stream",
     "text": [
      "['my name is ahmed\\n', ' my age is 30']\n"
     ]
    }
   ],
   "source": [
    "with open(\"test.txt\") as f:\n",
    "    print(f.readlines())"
   ]
  },
  {
   "cell_type": "code",
   "execution_count": null,
   "id": "242ad234",
   "metadata": {},
   "outputs": [],
   "source": []
  }
 ],
 "metadata": {
  "kernelspec": {
   "display_name": "Python 3 (ipykernel)",
   "language": "python",
   "name": "python3"
  },
  "language_info": {
   "codemirror_mode": {
    "name": "ipython",
    "version": 3
   },
   "file_extension": ".py",
   "mimetype": "text/x-python",
   "name": "python",
   "nbconvert_exporter": "python",
   "pygments_lexer": "ipython3",
   "version": "3.10.9"
  }
 },
 "nbformat": 4,
 "nbformat_minor": 5
}
