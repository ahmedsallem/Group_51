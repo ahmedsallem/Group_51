{
 "cells": [
  {
   "cell_type": "markdown",
   "id": "dc3ae4da",
   "metadata": {},
   "source": [
    "## Function"
   ]
  },
  {
   "cell_type": "code",
   "execution_count": 157,
   "id": "8e7d4a73",
   "metadata": {},
   "outputs": [],
   "source": [
    "def add(n1 , n2, n3):\n",
    "    s = n1 + n2  + n3\n",
    "    return s "
   ]
  },
  {
   "cell_type": "code",
   "execution_count": 158,
   "id": "252e4a88",
   "metadata": {},
   "outputs": [],
   "source": [
    "x = add(10,10,20)"
   ]
  },
  {
   "cell_type": "code",
   "execution_count": 159,
   "id": "203a9b6f",
   "metadata": {},
   "outputs": [
    {
     "data": {
      "text/plain": [
       "40"
      ]
     },
     "execution_count": 159,
     "metadata": {},
     "output_type": "execute_result"
    }
   ],
   "source": [
    "x"
   ]
  },
  {
   "cell_type": "code",
   "execution_count": 162,
   "id": "8d7804cd",
   "metadata": {},
   "outputs": [],
   "source": [
    "def add(*n):\n",
    "    s = 0\n",
    "    for i in n:\n",
    "        s+=i\n",
    "    return s"
   ]
  },
  {
   "cell_type": "code",
   "execution_count": 164,
   "id": "1914e49b",
   "metadata": {},
   "outputs": [
    {
     "data": {
      "text/plain": [
       "167"
      ]
     },
     "execution_count": 164,
     "metadata": {},
     "output_type": "execute_result"
    }
   ],
   "source": [
    "add(1,2,3,4,5,6 ,3,4,5,6,67,5,4,3,3,4,6,6,4,4,4,6,7,5)"
   ]
  },
  {
   "cell_type": "code",
   "execution_count": 165,
   "id": "bfd4190f",
   "metadata": {},
   "outputs": [],
   "source": [
    "def check(n):\n",
    "    if n % 2 == 0:\n",
    "        return \"Even\"\n",
    "    else:\n",
    "        return \"Odd\""
   ]
  },
  {
   "cell_type": "code",
   "execution_count": 166,
   "id": "4add5730",
   "metadata": {},
   "outputs": [
    {
     "data": {
      "text/plain": [
       "'Even'"
      ]
     },
     "execution_count": 166,
     "metadata": {},
     "output_type": "execute_result"
    }
   ],
   "source": [
    "check(12)"
   ]
  },
  {
   "cell_type": "code",
   "execution_count": 168,
   "id": "a1da4032",
   "metadata": {},
   "outputs": [
    {
     "data": {
      "text/plain": [
       "['Odd', 'Even', 'Odd', 'Even', 'Odd', 'Even', 'Odd', 'Even', 'Odd', 'Even']"
      ]
     },
     "execution_count": 168,
     "metadata": {},
     "output_type": "execute_result"
    }
   ],
   "source": [
    "# map(fun , seq)\n",
    "lst = [1,2,3,4,5,6,7,8,9,10]\n",
    "list(map(check , lst))"
   ]
  },
  {
   "cell_type": "code",
   "execution_count": 171,
   "id": "a1cd62d7",
   "metadata": {},
   "outputs": [
    {
     "data": {
      "text/plain": [
       "[2, 4, 6, 8, 10]"
      ]
     },
     "execution_count": 171,
     "metadata": {},
     "output_type": "execute_result"
    }
   ],
   "source": [
    "def check_even(n):\n",
    "    if n % 2 == 0:\n",
    "        return True\n",
    "    else:\n",
    "        return False\n",
    "\n",
    "list(filter(check_even , lst))"
   ]
  },
  {
   "cell_type": "code",
   "execution_count": 172,
   "id": "4ac0e478",
   "metadata": {},
   "outputs": [
    {
     "data": {
      "text/plain": [
       "[2, 4, 6, 8, 10]"
      ]
     },
     "execution_count": 172,
     "metadata": {},
     "output_type": "execute_result"
    }
   ],
   "source": [
    "list(filter(lambda x : x % 2 ==0 , lst))"
   ]
  },
  {
   "cell_type": "code",
   "execution_count": 173,
   "id": "5970c4f5",
   "metadata": {},
   "outputs": [],
   "source": [
    "lam = lambda x , y : x + y  "
   ]
  },
  {
   "cell_type": "code",
   "execution_count": 174,
   "id": "607d1e3a",
   "metadata": {},
   "outputs": [
    {
     "data": {
      "text/plain": [
       "24"
      ]
     },
     "execution_count": 174,
     "metadata": {},
     "output_type": "execute_result"
    }
   ],
   "source": [
    "lam(12,12)"
   ]
  },
  {
   "cell_type": "code",
   "execution_count": 176,
   "id": "a072a0b6",
   "metadata": {},
   "outputs": [],
   "source": [
    "%run Session_4_python.ipynb"
   ]
  },
  {
   "cell_type": "code",
   "execution_count": 177,
   "id": "e31dd393",
   "metadata": {},
   "outputs": [
    {
     "data": {
      "text/plain": [
       "False"
      ]
     },
     "execution_count": 177,
     "metadata": {},
     "output_type": "execute_result"
    }
   ],
   "source": [
    "check(\"lalalalalala\")"
   ]
  },
  {
   "cell_type": "code",
   "execution_count": 178,
   "id": "984bedb2",
   "metadata": {},
   "outputs": [
    {
     "data": {
      "text/plain": [
       "21"
      ]
     },
     "execution_count": 178,
     "metadata": {},
     "output_type": "execute_result"
    }
   ],
   "source": [
    "add(1,2,3,4,5,6)"
   ]
  },
  {
   "cell_type": "code",
   "execution_count": 182,
   "id": "da96c610",
   "metadata": {},
   "outputs": [],
   "source": [
    "import Session_4_python as sp"
   ]
  },
  {
   "cell_type": "code",
   "execution_count": 183,
   "id": "15c74c27",
   "metadata": {},
   "outputs": [
    {
     "data": {
      "text/plain": [
       "15"
      ]
     },
     "execution_count": 183,
     "metadata": {},
     "output_type": "execute_result"
    }
   ],
   "source": [
    "sp.add(1,2,3,4,5)"
   ]
  },
  {
   "cell_type": "code",
   "execution_count": 181,
   "id": "db5cac88",
   "metadata": {},
   "outputs": [
    {
     "data": {
      "text/plain": [
       "False"
      ]
     },
     "execution_count": 181,
     "metadata": {},
     "output_type": "execute_result"
    }
   ],
   "source": [
    "Session_4_python.check(\"lala\")"
   ]
  },
  {
   "cell_type": "code",
   "execution_count": 184,
   "id": "b1c87b96",
   "metadata": {},
   "outputs": [],
   "source": [
    "from Session_4_python import check , add"
   ]
  },
  {
   "cell_type": "code",
   "execution_count": 185,
   "id": "c36d9d2b",
   "metadata": {},
   "outputs": [
    {
     "data": {
      "text/plain": [
       "False"
      ]
     },
     "execution_count": 185,
     "metadata": {},
     "output_type": "execute_result"
    }
   ],
   "source": [
    "check(\"kdfkffk\")"
   ]
  },
  {
   "cell_type": "code",
   "execution_count": 186,
   "id": "4b633d41",
   "metadata": {},
   "outputs": [
    {
     "data": {
      "text/plain": [
       "['__builtins__',\n",
       " '__cached__',\n",
       " '__doc__',\n",
       " '__file__',\n",
       " '__loader__',\n",
       " '__name__',\n",
       " '__package__',\n",
       " '__spec__',\n",
       " 'add',\n",
       " 'check']"
      ]
     },
     "execution_count": 186,
     "metadata": {},
     "output_type": "execute_result"
    }
   ],
   "source": [
    "import Session_4_python\n",
    "dir(Session_4_python)"
   ]
  },
  {
   "cell_type": "code",
   "execution_count": 187,
   "id": "d15cf1c1",
   "metadata": {},
   "outputs": [],
   "source": [
    "import random"
   ]
  },
  {
   "cell_type": "code",
   "execution_count": 188,
   "id": "1b497940",
   "metadata": {},
   "outputs": [
    {
     "data": {
      "text/plain": [
       "['BPF',\n",
       " 'LOG4',\n",
       " 'NV_MAGICCONST',\n",
       " 'RECIP_BPF',\n",
       " 'Random',\n",
       " 'SG_MAGICCONST',\n",
       " 'SystemRandom',\n",
       " 'TWOPI',\n",
       " '_ONE',\n",
       " '_Sequence',\n",
       " '_Set',\n",
       " '__all__',\n",
       " '__builtins__',\n",
       " '__cached__',\n",
       " '__doc__',\n",
       " '__file__',\n",
       " '__loader__',\n",
       " '__name__',\n",
       " '__package__',\n",
       " '__spec__',\n",
       " '_accumulate',\n",
       " '_acos',\n",
       " '_bisect',\n",
       " '_ceil',\n",
       " '_cos',\n",
       " '_e',\n",
       " '_exp',\n",
       " '_floor',\n",
       " '_index',\n",
       " '_inst',\n",
       " '_isfinite',\n",
       " '_log',\n",
       " '_os',\n",
       " '_pi',\n",
       " '_random',\n",
       " '_repeat',\n",
       " '_sha512',\n",
       " '_sin',\n",
       " '_sqrt',\n",
       " '_test',\n",
       " '_test_generator',\n",
       " '_urandom',\n",
       " '_warn',\n",
       " 'betavariate',\n",
       " 'choice',\n",
       " 'choices',\n",
       " 'expovariate',\n",
       " 'gammavariate',\n",
       " 'gauss',\n",
       " 'getrandbits',\n",
       " 'getstate',\n",
       " 'lognormvariate',\n",
       " 'normalvariate',\n",
       " 'paretovariate',\n",
       " 'randbytes',\n",
       " 'randint',\n",
       " 'random',\n",
       " 'randrange',\n",
       " 'sample',\n",
       " 'seed',\n",
       " 'setstate',\n",
       " 'shuffle',\n",
       " 'triangular',\n",
       " 'uniform',\n",
       " 'vonmisesvariate',\n",
       " 'weibullvariate']"
      ]
     },
     "execution_count": 188,
     "metadata": {},
     "output_type": "execute_result"
    }
   ],
   "source": [
    "dir(random)"
   ]
  },
  {
   "cell_type": "code",
   "execution_count": 229,
   "id": "72ecf1a3",
   "metadata": {},
   "outputs": [
    {
     "data": {
      "text/plain": [
       "1"
      ]
     },
     "execution_count": 229,
     "metadata": {},
     "output_type": "execute_result"
    }
   ],
   "source": [
    "random.randint(1,10)  #end included"
   ]
  },
  {
   "cell_type": "code",
   "execution_count": 230,
   "id": "7545dd21",
   "metadata": {},
   "outputs": [
    {
     "data": {
      "text/plain": [
       "0.5852831395324684"
      ]
     },
     "execution_count": 230,
     "metadata": {},
     "output_type": "execute_result"
    }
   ],
   "source": [
    "random.random() #0 to 1"
   ]
  },
  {
   "cell_type": "code",
   "execution_count": 231,
   "id": "5441687c",
   "metadata": {},
   "outputs": [],
   "source": [
    "x = [\"amit\" , \"leaning\" , \"deep\"]\n",
    "random.shuffle(x)"
   ]
  },
  {
   "cell_type": "code",
   "execution_count": 232,
   "id": "46fa6942",
   "metadata": {},
   "outputs": [
    {
     "data": {
      "text/plain": [
       "['amit', 'leaning', 'deep']"
      ]
     },
     "execution_count": 232,
     "metadata": {},
     "output_type": "execute_result"
    }
   ],
   "source": [
    "x"
   ]
  },
  {
   "cell_type": "code",
   "execution_count": 233,
   "id": "0cc49aa8",
   "metadata": {},
   "outputs": [
    {
     "data": {
      "text/plain": [
       "[5, 2, 3, 8, 7, 1, 6, 4]"
      ]
     },
     "execution_count": 233,
     "metadata": {},
     "output_type": "execute_result"
    }
   ],
   "source": [
    "lst = [1,2,3,4,5,6,7,8]\n",
    "random.shuffle(lst)\n",
    "lst"
   ]
  },
  {
   "cell_type": "code",
   "execution_count": 234,
   "id": "0761542f",
   "metadata": {},
   "outputs": [
    {
     "data": {
      "text/plain": [
       "'deep'"
      ]
     },
     "execution_count": 234,
     "metadata": {},
     "output_type": "execute_result"
    }
   ],
   "source": [
    "random.choice(x)"
   ]
  },
  {
   "cell_type": "code",
   "execution_count": 235,
   "id": "713d3f18",
   "metadata": {},
   "outputs": [
    {
     "data": {
      "text/plain": [
       "2"
      ]
     },
     "execution_count": 235,
     "metadata": {},
     "output_type": "execute_result"
    }
   ],
   "source": [
    "random.randrange(1,10) #end not included"
   ]
  },
  {
   "cell_type": "code",
   "execution_count": 238,
   "id": "a1b41f69",
   "metadata": {},
   "outputs": [],
   "source": [
    "x = \"G\"\n",
    "def outer():\n",
    "    x = \"L\"\n",
    "    print(x)"
   ]
  },
  {
   "cell_type": "code",
   "execution_count": 239,
   "id": "384313ae",
   "metadata": {},
   "outputs": [
    {
     "name": "stdout",
     "output_type": "stream",
     "text": [
      "L\n",
      "G\n"
     ]
    }
   ],
   "source": [
    "outer()\n",
    "print(x)"
   ]
  },
  {
   "cell_type": "code",
   "execution_count": 240,
   "id": "c12e644c",
   "metadata": {},
   "outputs": [],
   "source": [
    "x = \"G\"\n",
    "def outer():\n",
    "    global x\n",
    "    x = \"L\"\n",
    "    print(x)"
   ]
  },
  {
   "cell_type": "code",
   "execution_count": 241,
   "id": "9466bc1a",
   "metadata": {},
   "outputs": [
    {
     "name": "stdout",
     "output_type": "stream",
     "text": [
      "L\n",
      "L\n"
     ]
    }
   ],
   "source": [
    "outer()\n",
    "print(x)"
   ]
  },
  {
   "cell_type": "code",
   "execution_count": 247,
   "id": "9295d131",
   "metadata": {},
   "outputs": [],
   "source": [
    "x = \"G\"\n",
    "def outer():\n",
    "    x = \"L\"\n",
    "    print(x)\n",
    "    def inner():\n",
    "        nonlocal x\n",
    "        x = \"inner\"\n",
    "        print(x)\n",
    "    inner()\n",
    "    print(x)"
   ]
  },
  {
   "cell_type": "code",
   "execution_count": 248,
   "id": "1fbe0c21",
   "metadata": {},
   "outputs": [
    {
     "name": "stdout",
     "output_type": "stream",
     "text": [
      "L\n",
      "inner\n",
      "inner\n",
      "G\n"
     ]
    }
   ],
   "source": [
    "outer()\n",
    "print(x)"
   ]
  },
  {
   "cell_type": "code",
   "execution_count": 249,
   "id": "48975d86",
   "metadata": {},
   "outputs": [],
   "source": [
    "x = \"G\"\n",
    "def outer():\n",
    "    x = \"L\"\n",
    "    print(x)\n",
    "    def inner():\n",
    "        global x\n",
    "        x = \"inner\"\n",
    "        print(x)\n",
    "    inner()\n",
    "    print(x)"
   ]
  },
  {
   "cell_type": "code",
   "execution_count": 250,
   "id": "9d734a60",
   "metadata": {},
   "outputs": [
    {
     "name": "stdout",
     "output_type": "stream",
     "text": [
      "L\n",
      "inner\n",
      "L\n",
      "inner\n"
     ]
    }
   ],
   "source": [
    "outer()\n",
    "print(x)"
   ]
  },
  {
   "cell_type": "code",
   "execution_count": 252,
   "id": "b7856cca",
   "metadata": {},
   "outputs": [
    {
     "name": "stdout",
     "output_type": "stream",
     "text": [
      "asdfghjk\n"
     ]
    }
   ],
   "source": [
    "try:\n",
    "    print(\"asdfghjk\")\n",
    "except:\n",
    "    print(\"check your var\")"
   ]
  },
  {
   "cell_type": "code",
   "execution_count": 258,
   "id": "064200ec",
   "metadata": {},
   "outputs": [
    {
     "name": "stdout",
     "output_type": "stream",
     "text": [
      "asdfghjk\n",
      "good\n",
      "Great\n"
     ]
    }
   ],
   "source": [
    "try:\n",
    "    print(\"asdfghjk\")\n",
    "except:\n",
    "    print(\"check your var\")\n",
    "else:\n",
    "    print(\"good\")\n",
    "finally:\n",
    "    print(\"Great\")"
   ]
  },
  {
   "cell_type": "code",
   "execution_count": 259,
   "id": "6302d244",
   "metadata": {},
   "outputs": [],
   "source": [
    "function1 = lambda x : x * x "
   ]
  },
  {
   "cell_type": "code",
   "execution_count": 260,
   "id": "5b7ff7f9",
   "metadata": {},
   "outputs": [
    {
     "data": {
      "text/plain": [
       "4"
      ]
     },
     "execution_count": 260,
     "metadata": {},
     "output_type": "execute_result"
    }
   ],
   "source": [
    "function1(2)"
   ]
  },
  {
   "cell_type": "code",
   "execution_count": 261,
   "id": "24d234ec",
   "metadata": {},
   "outputs": [],
   "source": [
    "h_o = lambda x , function1 : x + function1(x)"
   ]
  },
  {
   "cell_type": "code",
   "execution_count": 263,
   "id": "37cad231",
   "metadata": {},
   "outputs": [
    {
     "data": {
      "text/plain": [
       "6"
      ]
     },
     "execution_count": 263,
     "metadata": {},
     "output_type": "execute_result"
    }
   ],
   "source": [
    "h_o(2 , lambda x : x * x )"
   ]
  },
  {
   "cell_type": "code",
   "execution_count": 264,
   "id": "f2b1cba3",
   "metadata": {},
   "outputs": [],
   "source": [
    "def f(n):\n",
    "    if n == 1:\n",
    "        return 1 \n",
    "    else:\n",
    "        return n * f(n-1)"
   ]
  },
  {
   "cell_type": "code",
   "execution_count": 265,
   "id": "87914dea",
   "metadata": {},
   "outputs": [
    {
     "data": {
      "text/plain": [
       "120"
      ]
     },
     "execution_count": 265,
     "metadata": {},
     "output_type": "execute_result"
    }
   ],
   "source": [
    "f(5)"
   ]
  },
  {
   "cell_type": "code",
   "execution_count": 1,
   "id": "618b3a99",
   "metadata": {},
   "outputs": [
    {
     "name": "stdout",
     "output_type": "stream",
     "text": [
      "0  Amit \n",
      "1  Amit \n",
      "2  Amit \n",
      "3  Amit \n",
      "4  Amit \n",
      "5  Amit \n",
      "6  Amit \n",
      "7  Amit \n",
      "8  Amit \n",
      "9  Amit \n",
      "10  Amit \n",
      "11  Amit \n",
      "12  Amit \n",
      "13  Amit \n",
      "14  Amit \n",
      "15  Amit \n",
      "16  Amit \n",
      "17  Amit \n",
      "18  Amit \n",
      "19  Amit \n",
      "20  Amit \n"
     ]
    }
   ],
   "source": [
    "x = 0 \n",
    "while x <= 20:\n",
    "    print(x , \" Amit \")\n",
    "    x += 1 "
   ]
  },
  {
   "cell_type": "code",
   "execution_count": 5,
   "id": "799b58b7",
   "metadata": {},
   "outputs": [],
   "source": [
    "# f = open(\"test.txt\" , \"x\")"
   ]
  },
  {
   "cell_type": "code",
   "execution_count": 6,
   "id": "94a76b70",
   "metadata": {},
   "outputs": [],
   "source": [
    "f = open(\"test.txt\" , \"r\")"
   ]
  },
  {
   "cell_type": "code",
   "execution_count": 7,
   "id": "312fea50",
   "metadata": {},
   "outputs": [
    {
     "data": {
      "text/plain": [
       "'my name is amit'"
      ]
     },
     "execution_count": 7,
     "metadata": {},
     "output_type": "execute_result"
    }
   ],
   "source": [
    "f.read()"
   ]
  },
  {
   "cell_type": "code",
   "execution_count": 14,
   "id": "eac7f2f0",
   "metadata": {},
   "outputs": [],
   "source": [
    "# f.readlines()"
   ]
  },
  {
   "cell_type": "code",
   "execution_count": 15,
   "id": "b6f9fbee",
   "metadata": {},
   "outputs": [
    {
     "ename": "UnsupportedOperation",
     "evalue": "not writable",
     "output_type": "error",
     "traceback": [
      "\u001b[1;31m---------------------------------------------------------------------------\u001b[0m",
      "\u001b[1;31mUnsupportedOperation\u001b[0m                      Traceback (most recent call last)",
      "Cell \u001b[1;32mIn[15], line 1\u001b[0m\n\u001b[1;32m----> 1\u001b[0m \u001b[43mf\u001b[49m\u001b[38;5;241;43m.\u001b[39;49m\u001b[43mwrite\u001b[49m\u001b[43m(\u001b[49m\u001b[38;5;124;43m\"\u001b[39;49m\u001b[38;5;124;43mmy name is ahmed\u001b[39;49m\u001b[38;5;124;43m\"\u001b[39;49m\u001b[43m)\u001b[49m\n",
      "\u001b[1;31mUnsupportedOperation\u001b[0m: not writable"
     ]
    }
   ],
   "source": [
    "f.write(\"my name is ahmed\")"
   ]
  },
  {
   "cell_type": "code",
   "execution_count": 16,
   "id": "16efdbd8",
   "metadata": {},
   "outputs": [],
   "source": [
    "f.close()"
   ]
  },
  {
   "cell_type": "code",
   "execution_count": 17,
   "id": "b7c1739c",
   "metadata": {},
   "outputs": [],
   "source": [
    "f = open(\"test.txt\" , \"w\")"
   ]
  },
  {
   "cell_type": "code",
   "execution_count": 19,
   "id": "d9469626",
   "metadata": {},
   "outputs": [],
   "source": [
    "# f.read()"
   ]
  },
  {
   "cell_type": "code",
   "execution_count": 20,
   "id": "c5fd07b2",
   "metadata": {},
   "outputs": [
    {
     "data": {
      "text/plain": [
       "16"
      ]
     },
     "execution_count": 20,
     "metadata": {},
     "output_type": "execute_result"
    }
   ],
   "source": [
    "f.write(\"my name is ahmed\")"
   ]
  },
  {
   "cell_type": "code",
   "execution_count": 21,
   "id": "52b7170c",
   "metadata": {},
   "outputs": [],
   "source": [
    "f.close()"
   ]
  },
  {
   "cell_type": "code",
   "execution_count": 22,
   "id": "61dd2dd6",
   "metadata": {},
   "outputs": [],
   "source": [
    "f = open(\"test.txt\" , 'a')"
   ]
  },
  {
   "cell_type": "code",
   "execution_count": 23,
   "id": "318937b3",
   "metadata": {},
   "outputs": [
    {
     "data": {
      "text/plain": [
       "14"
      ]
     },
     "execution_count": 23,
     "metadata": {},
     "output_type": "execute_result"
    }
   ],
   "source": [
    "f.write(\"\\n my age is 30\")"
   ]
  },
  {
   "cell_type": "code",
   "execution_count": 24,
   "id": "4624a371",
   "metadata": {},
   "outputs": [],
   "source": [
    "f.close()"
   ]
  },
  {
   "cell_type": "code",
   "execution_count": 26,
   "id": "cbb2ba1b",
   "metadata": {},
   "outputs": [
    {
     "name": "stdout",
     "output_type": "stream",
     "text": [
      "['my name is ahmed\\n', ' my age is 30']\n"
     ]
    }
   ],
   "source": [
    "with open(\"test.txt\") as f:\n",
    "    print(f.readlines())"
   ]
  },
  {
   "cell_type": "code",
   "execution_count": null,
   "id": "92156fd3",
   "metadata": {},
   "outputs": [],
   "source": []
  },
  {
   "cell_type": "code",
   "execution_count": null,
   "id": "a877ddf8",
   "metadata": {},
   "outputs": [],
   "source": []
  }
 ],
 "metadata": {
  "kernelspec": {
   "display_name": "Python 3 (ipykernel)",
   "language": "python",
   "name": "python3"
  },
  "language_info": {
   "codemirror_mode": {
    "name": "ipython",
    "version": 3
   },
   "file_extension": ".py",
   "mimetype": "text/x-python",
   "name": "python",
   "nbconvert_exporter": "python",
   "pygments_lexer": "ipython3",
   "version": "3.10.9"
  }
 },
 "nbformat": 4,
 "nbformat_minor": 5
}
