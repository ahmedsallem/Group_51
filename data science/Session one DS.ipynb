{
 "cells": [
  {
   "cell_type": "code",
   "execution_count": 1,
   "id": "ff55968b",
   "metadata": {},
   "outputs": [],
   "source": [
    "import numpy as np"
   ]
  },
  {
   "cell_type": "code",
   "execution_count": 3,
   "id": "63390b7f",
   "metadata": {},
   "outputs": [],
   "source": [
    "# dir(np)"
   ]
  },
  {
   "cell_type": "code",
   "execution_count": 5,
   "id": "0a60bbf4",
   "metadata": {},
   "outputs": [],
   "source": [
    "# help(np.vdot)"
   ]
  },
  {
   "cell_type": "code",
   "execution_count": 6,
   "id": "87869889",
   "metadata": {},
   "outputs": [],
   "source": [
    "A = [[1,2,3],[3,4,5],[5,6,7]]\n",
    "X = np.array(A)"
   ]
  },
  {
   "cell_type": "code",
   "execution_count": 7,
   "id": "7b8173da",
   "metadata": {},
   "outputs": [
    {
     "data": {
      "text/plain": [
       "array([[1, 2, 3],\n",
       "       [3, 4, 5],\n",
       "       [5, 6, 7]])"
      ]
     },
     "execution_count": 7,
     "metadata": {},
     "output_type": "execute_result"
    }
   ],
   "source": [
    "X"
   ]
  },
  {
   "cell_type": "code",
   "execution_count": 8,
   "id": "a404bce7",
   "metadata": {},
   "outputs": [],
   "source": [
    "X = [[1,2,3],\n",
    "    [4 ,0,6],\n",
    "    [7 ,8,9]]\n",
    "\n",
    "Y = [[9,4, 7],\n",
    "    [6,5,2],\n",
    "    [3,2,6]]   \n",
    "X = np.array(X)\n",
    "Y = np.array(Y)\n"
   ]
  },
  {
   "cell_type": "code",
   "execution_count": 9,
   "id": "bae2ab99",
   "metadata": {},
   "outputs": [
    {
     "data": {
      "text/plain": [
       "array([[1, 2, 3],\n",
       "       [4, 0, 6],\n",
       "       [7, 8, 9]])"
      ]
     },
     "execution_count": 9,
     "metadata": {},
     "output_type": "execute_result"
    }
   ],
   "source": [
    "X"
   ]
  },
  {
   "cell_type": "code",
   "execution_count": 10,
   "id": "8dbf3680",
   "metadata": {},
   "outputs": [
    {
     "data": {
      "text/plain": [
       "array([[9, 4, 7],\n",
       "       [6, 5, 2],\n",
       "       [3, 2, 6]])"
      ]
     },
     "execution_count": 10,
     "metadata": {},
     "output_type": "execute_result"
    }
   ],
   "source": [
    "Y"
   ]
  },
  {
   "cell_type": "code",
   "execution_count": 11,
   "id": "06b6edd9",
   "metadata": {},
   "outputs": [
    {
     "data": {
      "text/plain": [
       "array([[10,  6, 10],\n",
       "       [10,  5,  8],\n",
       "       [10, 10, 15]])"
      ]
     },
     "execution_count": 11,
     "metadata": {},
     "output_type": "execute_result"
    }
   ],
   "source": [
    "X + Y "
   ]
  },
  {
   "cell_type": "code",
   "execution_count": 12,
   "id": "a08af474",
   "metadata": {},
   "outputs": [
    {
     "data": {
      "text/plain": [
       "numpy.ndarray"
      ]
     },
     "execution_count": 12,
     "metadata": {},
     "output_type": "execute_result"
    }
   ],
   "source": [
    "type(X)"
   ]
  },
  {
   "cell_type": "code",
   "execution_count": 13,
   "id": "4687aa4c",
   "metadata": {},
   "outputs": [
    {
     "data": {
      "text/plain": [
       "dtype('int32')"
      ]
     },
     "execution_count": 13,
     "metadata": {},
     "output_type": "execute_result"
    }
   ],
   "source": [
    "X.dtype"
   ]
  },
  {
   "cell_type": "code",
   "execution_count": 15,
   "id": "c61000ac",
   "metadata": {},
   "outputs": [
    {
     "data": {
      "text/plain": [
       "array([[0., 0., 0.],\n",
       "       [0., 0., 0.],\n",
       "       [0., 0., 0.]])"
      ]
     },
     "execution_count": 15,
     "metadata": {},
     "output_type": "execute_result"
    }
   ],
   "source": [
    "np.zeros([3,3])"
   ]
  },
  {
   "cell_type": "code",
   "execution_count": 16,
   "id": "22d52443",
   "metadata": {},
   "outputs": [
    {
     "data": {
      "text/plain": [
       "array([[1., 1., 1.],\n",
       "       [1., 1., 1.],\n",
       "       [1., 1., 1.]])"
      ]
     },
     "execution_count": 16,
     "metadata": {},
     "output_type": "execute_result"
    }
   ],
   "source": [
    "np.ones((3,3))"
   ]
  },
  {
   "cell_type": "code",
   "execution_count": 18,
   "id": "eafb64da",
   "metadata": {},
   "outputs": [
    {
     "data": {
      "text/plain": [
       "array([[1.01997071e-311, 2.47032823e-322, 0.00000000e+000],\n",
       "       [0.00000000e+000, 1.06099790e-312, 3.76231868e+174],\n",
       "       [4.96827559e-091, 9.76835934e+165, 3.54772999e-062],\n",
       "       [5.80034986e+170, 3.99910963e+252, 2.12787837e+160]])"
      ]
     },
     "execution_count": 18,
     "metadata": {},
     "output_type": "execute_result"
    }
   ],
   "source": [
    "np.empty([4,3])"
   ]
  },
  {
   "cell_type": "code",
   "execution_count": 19,
   "id": "e1bd8c90",
   "metadata": {},
   "outputs": [],
   "source": [
    "arr = np.array([1,2,3,4,5,6,7,8])"
   ]
  },
  {
   "cell_type": "code",
   "execution_count": 21,
   "id": "b033ceaf",
   "metadata": {},
   "outputs": [
    {
     "data": {
      "text/plain": [
       "(8,)"
      ]
     },
     "execution_count": 21,
     "metadata": {},
     "output_type": "execute_result"
    }
   ],
   "source": [
    "arr.shape"
   ]
  },
  {
   "cell_type": "code",
   "execution_count": 22,
   "id": "79ec06fe",
   "metadata": {},
   "outputs": [
    {
     "data": {
      "text/plain": [
       "8"
      ]
     },
     "execution_count": 22,
     "metadata": {},
     "output_type": "execute_result"
    }
   ],
   "source": [
    "arr.size"
   ]
  },
  {
   "cell_type": "code",
   "execution_count": 23,
   "id": "f27e9092",
   "metadata": {},
   "outputs": [
    {
     "data": {
      "text/plain": [
       "8"
      ]
     },
     "execution_count": 23,
     "metadata": {},
     "output_type": "execute_result"
    }
   ],
   "source": [
    "len(arr)"
   ]
  },
  {
   "cell_type": "code",
   "execution_count": 29,
   "id": "25f9f1b8",
   "metadata": {},
   "outputs": [],
   "source": [
    "arr2 = np.arange(1 , 51 , 1)   #np.arange(start , end , step)"
   ]
  },
  {
   "cell_type": "code",
   "execution_count": 31,
   "id": "a18a3147",
   "metadata": {},
   "outputs": [
    {
     "data": {
      "text/plain": [
       "50"
      ]
     },
     "execution_count": 31,
     "metadata": {},
     "output_type": "execute_result"
    }
   ],
   "source": [
    "arr2.shape[0]"
   ]
  },
  {
   "cell_type": "code",
   "execution_count": 34,
   "id": "9ba67e9d",
   "metadata": {},
   "outputs": [],
   "source": [
    "m =  arr2.reshape([10,5])"
   ]
  },
  {
   "cell_type": "code",
   "execution_count": 39,
   "id": "17d521d5",
   "metadata": {},
   "outputs": [
    {
     "name": "stdout",
     "output_type": "stream",
     "text": [
      "number of columns is:  5\n",
      "number of rows is:  10\n"
     ]
    }
   ],
   "source": [
    "print(\"number of columns is: \" , m.shape[1])\n",
    "print(\"number of rows is: \" , m.shape[0])"
   ]
  },
  {
   "cell_type": "code",
   "execution_count": 42,
   "id": "55687094",
   "metadata": {},
   "outputs": [
    {
     "data": {
      "text/plain": [
       "array([[ 1,  2,  3,  4,  5],\n",
       "       [ 6,  7,  8,  9, 10],\n",
       "       [11, 12, 13, 14, 15],\n",
       "       [16, 17, 18, 19, 20],\n",
       "       [21, 22, 23, 24, 25],\n",
       "       [26, 27, 28, 29, 30],\n",
       "       [31, 32, 33, 34, 35],\n",
       "       [36, 37, 38, 39, 40],\n",
       "       [41, 42, 43, 44, 45],\n",
       "       [46, 47, 48, 49, 50]])"
      ]
     },
     "execution_count": 42,
     "metadata": {},
     "output_type": "execute_result"
    }
   ],
   "source": [
    "m"
   ]
  },
  {
   "cell_type": "code",
   "execution_count": 45,
   "id": "643829ab",
   "metadata": {},
   "outputs": [
    {
     "data": {
      "text/plain": [
       "1"
      ]
     },
     "execution_count": 45,
     "metadata": {},
     "output_type": "execute_result"
    }
   ],
   "source": [
    "m[0][0]"
   ]
  },
  {
   "cell_type": "code",
   "execution_count": 46,
   "id": "c31e7d36",
   "metadata": {},
   "outputs": [
    {
     "data": {
      "text/plain": [
       "1"
      ]
     },
     "execution_count": 46,
     "metadata": {},
     "output_type": "execute_result"
    }
   ],
   "source": [
    "# m[row , col]\n",
    "m[0,0]"
   ]
  },
  {
   "cell_type": "code",
   "execution_count": 47,
   "id": "b1deaa45",
   "metadata": {},
   "outputs": [
    {
     "data": {
      "text/plain": [
       "array([1, 2, 3, 4, 5])"
      ]
     },
     "execution_count": 47,
     "metadata": {},
     "output_type": "execute_result"
    }
   ],
   "source": [
    "m[0]"
   ]
  },
  {
   "cell_type": "code",
   "execution_count": 48,
   "id": "edab97da",
   "metadata": {},
   "outputs": [
    {
     "data": {
      "text/plain": [
       "array([46, 47, 48, 49, 50])"
      ]
     },
     "execution_count": 48,
     "metadata": {},
     "output_type": "execute_result"
    }
   ],
   "source": [
    "m[-1]"
   ]
  },
  {
   "cell_type": "code",
   "execution_count": 54,
   "id": "aa492dcb",
   "metadata": {},
   "outputs": [
    {
     "data": {
      "text/plain": [
       "array([[ 1,  2,  3,  4],\n",
       "       [ 6,  7,  8,  9],\n",
       "       [11, 12, 13, 14],\n",
       "       [16, 17, 18, 19],\n",
       "       [21, 22, 23, 24],\n",
       "       [26, 27, 28, 29],\n",
       "       [31, 32, 33, 34],\n",
       "       [36, 37, 38, 39],\n",
       "       [41, 42, 43, 44],\n",
       "       [46, 47, 48, 49]])"
      ]
     },
     "execution_count": 54,
     "metadata": {},
     "output_type": "execute_result"
    }
   ],
   "source": [
    "m[ : , :-1]    # m[ start:end , start:end]"
   ]
  },
  {
   "cell_type": "code",
   "execution_count": 55,
   "id": "6b8f5656",
   "metadata": {},
   "outputs": [
    {
     "data": {
      "text/plain": [
       "array([[ 7,  8,  9],\n",
       "       [12, 13, 14],\n",
       "       [17, 18, 19],\n",
       "       [22, 23, 24],\n",
       "       [27, 28, 29],\n",
       "       [32, 33, 34],\n",
       "       [37, 38, 39],\n",
       "       [42, 43, 44]])"
      ]
     },
     "execution_count": 55,
     "metadata": {},
     "output_type": "execute_result"
    }
   ],
   "source": [
    "m[1:-1 , 1:-1]"
   ]
  },
  {
   "cell_type": "code",
   "execution_count": 57,
   "id": "811caa3e",
   "metadata": {},
   "outputs": [],
   "source": [
    "x = np.zeros((10,10))"
   ]
  },
  {
   "cell_type": "code",
   "execution_count": 58,
   "id": "feb8cdfd",
   "metadata": {},
   "outputs": [],
   "source": [
    "x[1:-1 , 1:-1] = 1"
   ]
  },
  {
   "cell_type": "code",
   "execution_count": 59,
   "id": "9f5c9d2e",
   "metadata": {},
   "outputs": [
    {
     "data": {
      "text/plain": [
       "array([[0., 0., 0., 0., 0., 0., 0., 0., 0., 0.],\n",
       "       [0., 1., 1., 1., 1., 1., 1., 1., 1., 0.],\n",
       "       [0., 1., 1., 1., 1., 1., 1., 1., 1., 0.],\n",
       "       [0., 1., 1., 1., 1., 1., 1., 1., 1., 0.],\n",
       "       [0., 1., 1., 1., 1., 1., 1., 1., 1., 0.],\n",
       "       [0., 1., 1., 1., 1., 1., 1., 1., 1., 0.],\n",
       "       [0., 1., 1., 1., 1., 1., 1., 1., 1., 0.],\n",
       "       [0., 1., 1., 1., 1., 1., 1., 1., 1., 0.],\n",
       "       [0., 1., 1., 1., 1., 1., 1., 1., 1., 0.],\n",
       "       [0., 0., 0., 0., 0., 0., 0., 0., 0., 0.]])"
      ]
     },
     "execution_count": 59,
     "metadata": {},
     "output_type": "execute_result"
    }
   ],
   "source": [
    "x"
   ]
  },
  {
   "cell_type": "code",
   "execution_count": 67,
   "id": "d6fb7132",
   "metadata": {},
   "outputs": [
    {
     "data": {
      "text/plain": [
       "array([ 0. ,  2.5,  5. ,  7.5, 10. ])"
      ]
     },
     "execution_count": 67,
     "metadata": {},
     "output_type": "execute_result"
    }
   ],
   "source": [
    "np.linspace(0,10,5)"
   ]
  },
  {
   "cell_type": "code",
   "execution_count": 75,
   "id": "312e85cf",
   "metadata": {},
   "outputs": [
    {
     "data": {
      "text/plain": [
       "array([[7, 5, 2],\n",
       "       [9, 8, 4],\n",
       "       [5, 9, 5]])"
      ]
     },
     "execution_count": 75,
     "metadata": {},
     "output_type": "execute_result"
    }
   ],
   "source": [
    "np.random.randint(1 , 10 , (3,3))    #np.random.randint(start , end , shape)"
   ]
  },
  {
   "cell_type": "code",
   "execution_count": 79,
   "id": "b8e80067",
   "metadata": {},
   "outputs": [
    {
     "data": {
      "text/plain": [
       "array([[0.72121352, 0.58501462, 0.89559599],\n",
       "       [0.86746302, 0.49077887, 0.04032708],\n",
       "       [0.16630147, 0.9407215 , 0.12581903]])"
      ]
     },
     "execution_count": 79,
     "metadata": {},
     "output_type": "execute_result"
    }
   ],
   "source": [
    "np.random.random((3,3))  # np.random.random(shape)  0 , 1 "
   ]
  },
  {
   "cell_type": "code",
   "execution_count": 87,
   "id": "f893f190",
   "metadata": {},
   "outputs": [
    {
     "data": {
      "text/plain": [
       "array([[7, 2, 3],\n",
       "       [4, 4, 1],\n",
       "       [7, 2, 5]])"
      ]
     },
     "execution_count": 87,
     "metadata": {},
     "output_type": "execute_result"
    }
   ],
   "source": [
    "np.random.seed(12)\n",
    "np.random.randint(1 , 10 , (3,3))"
   ]
  },
  {
   "cell_type": "code",
   "execution_count": 88,
   "id": "f7806b62",
   "metadata": {},
   "outputs": [
    {
     "data": {
      "text/plain": [
       "array([ 1,  2,  3,  4,  5,  6,  7,  8,  9, 10, 11, 12, 13, 14, 15, 16, 17,\n",
       "       18, 19, 20, 21, 22, 23, 24, 25, 26, 27, 28, 29, 30, 31, 32, 33, 34,\n",
       "       35, 36, 37, 38, 39, 40, 41, 42, 43, 44, 45, 46, 47, 48, 49, 50])"
      ]
     },
     "execution_count": 88,
     "metadata": {},
     "output_type": "execute_result"
    }
   ],
   "source": [
    "arr2"
   ]
  },
  {
   "cell_type": "code",
   "execution_count": 89,
   "id": "90854613",
   "metadata": {},
   "outputs": [
    {
     "data": {
      "text/plain": [
       "array([1, 2, 3, 4, 4, 5, 6, 7])"
      ]
     },
     "execution_count": 89,
     "metadata": {},
     "output_type": "execute_result"
    }
   ],
   "source": [
    "a = np.array([1,2,3,4])\n",
    "b = np.array([4,5,6,7])\n",
    "np.hstack((a , b ))"
   ]
  },
  {
   "cell_type": "code",
   "execution_count": 91,
   "id": "215b2697",
   "metadata": {},
   "outputs": [],
   "source": [
    "x = np.vstack((a , b ))"
   ]
  },
  {
   "cell_type": "code",
   "execution_count": 92,
   "id": "8321db0e",
   "metadata": {},
   "outputs": [
    {
     "data": {
      "text/plain": [
       "array([[1, 2, 3, 4],\n",
       "       [4, 5, 6, 7]])"
      ]
     },
     "execution_count": 92,
     "metadata": {},
     "output_type": "execute_result"
    }
   ],
   "source": [
    "x"
   ]
  },
  {
   "cell_type": "code",
   "execution_count": 96,
   "id": "0baa87f5",
   "metadata": {},
   "outputs": [
    {
     "data": {
      "text/plain": [
       "array([1, 2, 3, 4])"
      ]
     },
     "execution_count": 96,
     "metadata": {},
     "output_type": "execute_result"
    }
   ],
   "source": [
    "a"
   ]
  },
  {
   "cell_type": "code",
   "execution_count": 98,
   "id": "0e480dd5",
   "metadata": {},
   "outputs": [
    {
     "data": {
      "text/plain": [
       "array([[1, 2, 3, 4],\n",
       "       [4, 5, 6, 7],\n",
       "       [1, 2, 3, 4]])"
      ]
     },
     "execution_count": 98,
     "metadata": {},
     "output_type": "execute_result"
    }
   ],
   "source": [
    "np.vstack((x,a))"
   ]
  },
  {
   "cell_type": "code",
   "execution_count": 122,
   "id": "bdfa2613",
   "metadata": {},
   "outputs": [],
   "source": [
    "import numpy as np\n",
    "w = np.array([[1,3] , [2,4]])\n",
    "x = np.array([[2,3] , [4,5]])"
   ]
  },
  {
   "cell_type": "code",
   "execution_count": 123,
   "id": "ada528cc",
   "metadata": {},
   "outputs": [
    {
     "data": {
      "text/plain": [
       "array([[14, 18],\n",
       "       [20, 26]])"
      ]
     },
     "execution_count": 123,
     "metadata": {},
     "output_type": "execute_result"
    }
   ],
   "source": [
    "w.dot(x)"
   ]
  },
  {
   "cell_type": "code",
   "execution_count": 124,
   "id": "14055561",
   "metadata": {},
   "outputs": [],
   "source": [
    "v = np.array([1,2,3])\n",
    "m = np.array([[1,2,3] , [2,3,4] , [3,4,5]])\n",
    "w = v + m "
   ]
  },
  {
   "cell_type": "code",
   "execution_count": 125,
   "id": "ea78b3d3",
   "metadata": {
    "scrolled": true
   },
   "outputs": [
    {
     "data": {
      "text/plain": [
       "array([[2, 4, 6],\n",
       "       [3, 5, 7],\n",
       "       [4, 6, 8]])"
      ]
     },
     "execution_count": 125,
     "metadata": {},
     "output_type": "execute_result"
    }
   ],
   "source": [
    "w"
   ]
  },
  {
   "cell_type": "code",
   "execution_count": 127,
   "id": "08fbe28f",
   "metadata": {},
   "outputs": [],
   "source": [
    "# np.diag(w)"
   ]
  },
  {
   "cell_type": "code",
   "execution_count": 106,
   "id": "90937bd2",
   "metadata": {},
   "outputs": [
    {
     "data": {
      "text/plain": [
       "array([[2, 0, 0],\n",
       "       [3, 5, 0],\n",
       "       [4, 6, 8]])"
      ]
     },
     "execution_count": 106,
     "metadata": {},
     "output_type": "execute_result"
    }
   ],
   "source": [
    "np.tril(w)   # lower"
   ]
  },
  {
   "cell_type": "code",
   "execution_count": 128,
   "id": "2c7957a8",
   "metadata": {},
   "outputs": [
    {
     "data": {
      "text/plain": [
       "array([[2, 4, 6],\n",
       "       [0, 5, 7],\n",
       "       [0, 0, 8]])"
      ]
     },
     "execution_count": 128,
     "metadata": {},
     "output_type": "execute_result"
    }
   ],
   "source": [
    "np.triu(w) # upper"
   ]
  },
  {
   "cell_type": "code",
   "execution_count": 129,
   "id": "34a90c7d",
   "metadata": {},
   "outputs": [],
   "source": [
    "v = np.diag(w)"
   ]
  },
  {
   "cell_type": "code",
   "execution_count": 130,
   "id": "847b4228",
   "metadata": {},
   "outputs": [
    {
     "data": {
      "text/plain": [
       "array([2, 5, 8])"
      ]
     },
     "execution_count": 130,
     "metadata": {},
     "output_type": "execute_result"
    }
   ],
   "source": [
    "v"
   ]
  },
  {
   "cell_type": "code",
   "execution_count": 111,
   "id": "577f38c8",
   "metadata": {},
   "outputs": [
    {
     "data": {
      "text/plain": [
       "array([[2, 0, 0],\n",
       "       [0, 5, 0],\n",
       "       [0, 0, 8]])"
      ]
     },
     "execution_count": 111,
     "metadata": {},
     "output_type": "execute_result"
    }
   ],
   "source": [
    "np.diag(v)"
   ]
  },
  {
   "cell_type": "code",
   "execution_count": 132,
   "id": "c42ec457",
   "metadata": {},
   "outputs": [
    {
     "data": {
      "text/plain": [
       "array([[1, 0, 0],\n",
       "       [0, 1, 0],\n",
       "       [0, 0, 1]])"
      ]
     },
     "execution_count": 132,
     "metadata": {},
     "output_type": "execute_result"
    }
   ],
   "source": [
    "np.identity(3 , dtype=int)"
   ]
  },
  {
   "cell_type": "code",
   "execution_count": 134,
   "id": "3b72300d",
   "metadata": {},
   "outputs": [
    {
     "data": {
      "text/plain": [
       "array([[2, 4, 6],\n",
       "       [3, 5, 7],\n",
       "       [4, 6, 8]])"
      ]
     },
     "execution_count": 134,
     "metadata": {},
     "output_type": "execute_result"
    }
   ],
   "source": [
    "s = 2 \n",
    "w"
   ]
  },
  {
   "cell_type": "code",
   "execution_count": 135,
   "id": "ee0f4b8b",
   "metadata": {},
   "outputs": [
    {
     "data": {
      "text/plain": [
       "array([[ 4,  8, 12],\n",
       "       [ 6, 10, 14],\n",
       "       [ 8, 12, 16]])"
      ]
     },
     "execution_count": 135,
     "metadata": {},
     "output_type": "execute_result"
    }
   ],
   "source": [
    "s * w"
   ]
  },
  {
   "cell_type": "code",
   "execution_count": 137,
   "id": "2fc53fbd",
   "metadata": {},
   "outputs": [
    {
     "data": {
      "text/plain": [
       "array([[2, 4],\n",
       "       [3, 5],\n",
       "       [4, 6]])"
      ]
     },
     "execution_count": 137,
     "metadata": {},
     "output_type": "execute_result"
    }
   ],
   "source": [
    "w[: , :-1]"
   ]
  },
  {
   "cell_type": "code",
   "execution_count": 138,
   "id": "95db35e7",
   "metadata": {},
   "outputs": [
    {
     "data": {
      "text/plain": [
       "array([[2, 4, 6],\n",
       "       [3, 5, 7],\n",
       "       [4, 6, 8]])"
      ]
     },
     "execution_count": 138,
     "metadata": {},
     "output_type": "execute_result"
    }
   ],
   "source": [
    "w"
   ]
  },
  {
   "cell_type": "code",
   "execution_count": 139,
   "id": "eaa180dc",
   "metadata": {},
   "outputs": [
    {
     "data": {
      "text/plain": [
       "15"
      ]
     },
     "execution_count": 139,
     "metadata": {},
     "output_type": "execute_result"
    }
   ],
   "source": [
    "np.trace(w)"
   ]
  },
  {
   "cell_type": "code",
   "execution_count": 141,
   "id": "38fc6e26",
   "metadata": {},
   "outputs": [],
   "source": [
    "v = np.array([[1],[2],[3]])"
   ]
  },
  {
   "cell_type": "code",
   "execution_count": 142,
   "id": "4855ecca",
   "metadata": {},
   "outputs": [
    {
     "data": {
      "text/plain": [
       "array([[1],\n",
       "       [2],\n",
       "       [3]])"
      ]
     },
     "execution_count": 142,
     "metadata": {},
     "output_type": "execute_result"
    }
   ],
   "source": [
    "v"
   ]
  },
  {
   "cell_type": "code",
   "execution_count": 143,
   "id": "017a9749",
   "metadata": {},
   "outputs": [
    {
     "data": {
      "text/plain": [
       "array([[2, 4, 6],\n",
       "       [3, 5, 7],\n",
       "       [4, 6, 8]])"
      ]
     },
     "execution_count": 143,
     "metadata": {},
     "output_type": "execute_result"
    }
   ],
   "source": [
    "w"
   ]
  },
  {
   "cell_type": "code",
   "execution_count": 144,
   "id": "66290dd9",
   "metadata": {},
   "outputs": [
    {
     "data": {
      "text/plain": [
       "array([[ 3,  5,  7],\n",
       "       [ 5,  7,  9],\n",
       "       [ 7,  9, 11]])"
      ]
     },
     "execution_count": 144,
     "metadata": {},
     "output_type": "execute_result"
    }
   ],
   "source": [
    "v + w"
   ]
  },
  {
   "cell_type": "code",
   "execution_count": 145,
   "id": "eb32ffe1",
   "metadata": {},
   "outputs": [
    {
     "data": {
      "text/plain": [
       "array([[2, 4, 6],\n",
       "       [3, 5, 7],\n",
       "       [4, 6, 8]])"
      ]
     },
     "execution_count": 145,
     "metadata": {},
     "output_type": "execute_result"
    }
   ],
   "source": [
    "w"
   ]
  },
  {
   "cell_type": "code",
   "execution_count": 146,
   "id": "a0fe74c8",
   "metadata": {},
   "outputs": [
    {
     "data": {
      "text/plain": [
       "array([[2, 3, 4],\n",
       "       [4, 5, 6],\n",
       "       [6, 7, 8]])"
      ]
     },
     "execution_count": 146,
     "metadata": {},
     "output_type": "execute_result"
    }
   ],
   "source": [
    "w.T"
   ]
  },
  {
   "cell_type": "code",
   "execution_count": 147,
   "id": "07aea1f6",
   "metadata": {},
   "outputs": [],
   "source": [
    "m = np .array([[1,2,3] , [2,3,4] , [3,4,5] , [5,6,7]])"
   ]
  },
  {
   "cell_type": "code",
   "execution_count": 148,
   "id": "75378b20",
   "metadata": {},
   "outputs": [
    {
     "data": {
      "text/plain": [
       "array([[1, 2, 3],\n",
       "       [2, 3, 4],\n",
       "       [3, 4, 5],\n",
       "       [5, 6, 7]])"
      ]
     },
     "execution_count": 148,
     "metadata": {},
     "output_type": "execute_result"
    }
   ],
   "source": [
    "m"
   ]
  },
  {
   "cell_type": "code",
   "execution_count": 149,
   "id": "2a883dfa",
   "metadata": {},
   "outputs": [
    {
     "data": {
      "text/plain": [
       "array([[1, 2, 3, 5],\n",
       "       [2, 3, 4, 6],\n",
       "       [3, 4, 5, 7]])"
      ]
     },
     "execution_count": 149,
     "metadata": {},
     "output_type": "execute_result"
    }
   ],
   "source": [
    "m.T"
   ]
  },
  {
   "cell_type": "code",
   "execution_count": 150,
   "id": "83fd8573",
   "metadata": {},
   "outputs": [
    {
     "name": "stdout",
     "output_type": "stream",
     "text": [
      "Help on function trace in module numpy:\n",
      "\n",
      "trace(a, offset=0, axis1=0, axis2=1, dtype=None, out=None)\n",
      "    Return the sum along diagonals of the array.\n",
      "    \n",
      "    If `a` is 2-D, the sum along its diagonal with the given offset\n",
      "    is returned, i.e., the sum of elements ``a[i,i+offset]`` for all i.\n",
      "    \n",
      "    If `a` has more than two dimensions, then the axes specified by axis1 and\n",
      "    axis2 are used to determine the 2-D sub-arrays whose traces are returned.\n",
      "    The shape of the resulting array is the same as that of `a` with `axis1`\n",
      "    and `axis2` removed.\n",
      "    \n",
      "    Parameters\n",
      "    ----------\n",
      "    a : array_like\n",
      "        Input array, from which the diagonals are taken.\n",
      "    offset : int, optional\n",
      "        Offset of the diagonal from the main diagonal. Can be both positive\n",
      "        and negative. Defaults to 0.\n",
      "    axis1, axis2 : int, optional\n",
      "        Axes to be used as the first and second axis of the 2-D sub-arrays\n",
      "        from which the diagonals should be taken. Defaults are the first two\n",
      "        axes of `a`.\n",
      "    dtype : dtype, optional\n",
      "        Determines the data-type of the returned array and of the accumulator\n",
      "        where the elements are summed. If dtype has the value None and `a` is\n",
      "        of integer type of precision less than the default integer\n",
      "        precision, then the default integer precision is used. Otherwise,\n",
      "        the precision is the same as that of `a`.\n",
      "    out : ndarray, optional\n",
      "        Array into which the output is placed. Its type is preserved and\n",
      "        it must be of the right shape to hold the output.\n",
      "    \n",
      "    Returns\n",
      "    -------\n",
      "    sum_along_diagonals : ndarray\n",
      "        If `a` is 2-D, the sum along the diagonal is returned.  If `a` has\n",
      "        larger dimensions, then an array of sums along diagonals is returned.\n",
      "    \n",
      "    See Also\n",
      "    --------\n",
      "    diag, diagonal, diagflat\n",
      "    \n",
      "    Examples\n",
      "    --------\n",
      "    >>> np.trace(np.eye(3))\n",
      "    3.0\n",
      "    >>> a = np.arange(8).reshape((2,2,2))\n",
      "    >>> np.trace(a)\n",
      "    array([6, 8])\n",
      "    \n",
      "    >>> a = np.arange(24).reshape((2,2,2,3))\n",
      "    >>> np.trace(a).shape\n",
      "    (2, 3)\n",
      "\n"
     ]
    }
   ],
   "source": [
    "help(np.trace)"
   ]
  },
  {
   "cell_type": "code",
   "execution_count": 151,
   "id": "34333a0b",
   "metadata": {},
   "outputs": [
    {
     "data": {
      "text/plain": [
       "array([[1., 0., 0.],\n",
       "       [0., 1., 0.],\n",
       "       [0., 0., 1.]])"
      ]
     },
     "execution_count": 151,
     "metadata": {},
     "output_type": "execute_result"
    }
   ],
   "source": [
    "np.eye(3)"
   ]
  },
  {
   "cell_type": "code",
   "execution_count": 156,
   "id": "4f178594",
   "metadata": {},
   "outputs": [
    {
     "data": {
      "text/plain": [
       "-2.0"
      ]
     },
     "execution_count": 156,
     "metadata": {},
     "output_type": "execute_result"
    }
   ],
   "source": [
    "w = np.array([[1,2,3] , [3,4,5] , [2,2,3]])\n",
    "np.linalg.det(w)\n"
   ]
  },
  {
   "cell_type": "code",
   "execution_count": 157,
   "id": "d69749d7",
   "metadata": {},
   "outputs": [
    {
     "data": {
      "text/plain": [
       "-2.9999999999999996"
      ]
     },
     "execution_count": 157,
     "metadata": {},
     "output_type": "execute_result"
    }
   ],
   "source": [
    "w = np.array([[1,2] , [4,5] ])\n",
    "np.linalg.det(w)"
   ]
  },
  {
   "cell_type": "code",
   "execution_count": 158,
   "id": "0d5324e9",
   "metadata": {},
   "outputs": [],
   "source": [
    "m = np.array([[1,2,3] , [3,2,5] , [6,1,7]])"
   ]
  },
  {
   "cell_type": "code",
   "execution_count": 159,
   "id": "7efb027d",
   "metadata": {},
   "outputs": [
    {
     "data": {
      "text/plain": [
       "array([[1, 2, 3],\n",
       "       [3, 2, 5],\n",
       "       [6, 1, 7]])"
      ]
     },
     "execution_count": 159,
     "metadata": {},
     "output_type": "execute_result"
    }
   ],
   "source": [
    "m"
   ]
  },
  {
   "cell_type": "code",
   "execution_count": 160,
   "id": "446279e0",
   "metadata": {},
   "outputs": [
    {
     "data": {
      "text/plain": [
       "2"
      ]
     },
     "execution_count": 160,
     "metadata": {},
     "output_type": "execute_result"
    }
   ],
   "source": [
    "np.linalg.matrix_rank(m)"
   ]
  },
  {
   "cell_type": "code",
   "execution_count": 164,
   "id": "043bee87",
   "metadata": {},
   "outputs": [
    {
     "data": {
      "text/plain": [
       "array([[-2. ,  1. ],\n",
       "       [ 1.5, -0.5]])"
      ]
     },
     "execution_count": 164,
     "metadata": {},
     "output_type": "execute_result"
    }
   ],
   "source": [
    "m = np.array([[1,2] , [3,4]])\n",
    "n = np.linalg.inv(m)\n",
    "n"
   ]
  },
  {
   "cell_type": "code",
   "execution_count": 162,
   "id": "07d5a976",
   "metadata": {},
   "outputs": [
    {
     "data": {
      "text/plain": [
       "array([[-2. ,  1. ],\n",
       "       [ 1.5, -0.5]])"
      ]
     },
     "execution_count": 162,
     "metadata": {},
     "output_type": "execute_result"
    }
   ],
   "source": [
    "(1/-2) * np.array([[4,-2] , [-3 , 1 ]])"
   ]
  },
  {
   "cell_type": "code",
   "execution_count": 167,
   "id": "6ab4ff52",
   "metadata": {},
   "outputs": [
    {
     "data": {
      "text/plain": [
       "array([[1.00000000e+00, 1.11022302e-16],\n",
       "       [0.00000000e+00, 1.00000000e+00]])"
      ]
     },
     "execution_count": 167,
     "metadata": {},
     "output_type": "execute_result"
    }
   ],
   "source": [
    "m.dot(n)"
   ]
  },
  {
   "cell_type": "code",
   "execution_count": 175,
   "id": "41f1dd27",
   "metadata": {},
   "outputs": [],
   "source": [
    "z = np.zeros((10,10))"
   ]
  },
  {
   "cell_type": "code",
   "execution_count": 196,
   "id": "efc3bcec",
   "metadata": {},
   "outputs": [
    {
     "data": {
      "text/plain": [
       "array([[1., 0., 0., 0., 0., 0., 0., 0., 0., 0.],\n",
       "       [0., 0., 0., 0., 0., 0., 0., 0., 0., 0.],\n",
       "       [0., 0., 0., 0., 1., 0., 0., 0., 0., 0.],\n",
       "       [0., 0., 0., 0., 0., 0., 0., 0., 0., 0.],\n",
       "       [0., 0., 0., 0., 0., 0., 0., 0., 0., 0.],\n",
       "       [0., 0., 0., 0., 0., 0., 0., 1., 0., 0.],\n",
       "       [0., 0., 0., 0., 0., 0., 0., 1., 1., 1.],\n",
       "       [0., 1., 0., 0., 0., 0., 0., 0., 0., 0.],\n",
       "       [0., 0., 0., 0., 0., 0., 0., 0., 0., 0.],\n",
       "       [0., 0., 0., 0., 0., 0., 0., 0., 0., 0.]])"
      ]
     },
     "execution_count": 196,
     "metadata": {},
     "output_type": "execute_result"
    }
   ],
   "source": [
    "z[0,0] = 1\n",
    "z[2,4] = 1\n",
    "z[5,7] = 1\n",
    "z[6,8] = 1\n",
    "z[6,7] = 1\n",
    "z[6,9] = 1\n",
    "z[7,1] = 1\n",
    "z"
   ]
  },
  {
   "cell_type": "code",
   "execution_count": 197,
   "id": "09d6b27d",
   "metadata": {},
   "outputs": [
    {
     "data": {
      "text/plain": [
       "100"
      ]
     },
     "execution_count": 197,
     "metadata": {},
     "output_type": "execute_result"
    }
   ],
   "source": [
    "z.size"
   ]
  },
  {
   "cell_type": "code",
   "execution_count": 198,
   "id": "c0439815",
   "metadata": {},
   "outputs": [],
   "source": [
    "nonzero = np.count_nonzero(z)"
   ]
  },
  {
   "cell_type": "code",
   "execution_count": 199,
   "id": "c2735485",
   "metadata": {},
   "outputs": [
    {
     "data": {
      "text/plain": [
       "0.07"
      ]
     },
     "execution_count": 199,
     "metadata": {},
     "output_type": "execute_result"
    }
   ],
   "source": [
    "nonzero / z.size"
   ]
  },
  {
   "cell_type": "code",
   "execution_count": 200,
   "id": "fefc0e28",
   "metadata": {},
   "outputs": [
    {
     "data": {
      "text/plain": [
       "0.9299999999999999"
      ]
     },
     "execution_count": 200,
     "metadata": {},
     "output_type": "execute_result"
    }
   ],
   "source": [
    "1 - nonzero / z.size"
   ]
  },
  {
   "cell_type": "code",
   "execution_count": 201,
   "id": "a4305665",
   "metadata": {},
   "outputs": [],
   "source": [
    "from scipy.sparse import csr_matrix , csc_matrix"
   ]
  },
  {
   "cell_type": "code",
   "execution_count": 204,
   "id": "3ec1b8ec",
   "metadata": {},
   "outputs": [
    {
     "name": "stdout",
     "output_type": "stream",
     "text": [
      "  (0, 0)\t1.0\n",
      "  (2, 4)\t1.0\n",
      "  (5, 7)\t1.0\n",
      "  (6, 7)\t1.0\n",
      "  (6, 8)\t1.0\n",
      "  (6, 9)\t1.0\n",
      "  (7, 1)\t1.0\n"
     ]
    },
    {
     "data": {
      "text/plain": [
       "matrix([[1., 0., 0., 0., 0., 0., 0., 0., 0., 0.],\n",
       "        [0., 0., 0., 0., 0., 0., 0., 0., 0., 0.],\n",
       "        [0., 0., 0., 0., 1., 0., 0., 0., 0., 0.],\n",
       "        [0., 0., 0., 0., 0., 0., 0., 0., 0., 0.],\n",
       "        [0., 0., 0., 0., 0., 0., 0., 0., 0., 0.],\n",
       "        [0., 0., 0., 0., 0., 0., 0., 1., 0., 0.],\n",
       "        [0., 0., 0., 0., 0., 0., 0., 1., 1., 1.],\n",
       "        [0., 1., 0., 0., 0., 0., 0., 0., 0., 0.],\n",
       "        [0., 0., 0., 0., 0., 0., 0., 0., 0., 0.],\n",
       "        [0., 0., 0., 0., 0., 0., 0., 0., 0., 0.]])"
      ]
     },
     "execution_count": 204,
     "metadata": {},
     "output_type": "execute_result"
    }
   ],
   "source": [
    "x = csr_matrix(z)\n",
    "print(x)\n",
    "x.todense()"
   ]
  },
  {
   "cell_type": "code",
   "execution_count": 203,
   "id": "b23d6d49",
   "metadata": {},
   "outputs": [
    {
     "name": "stdout",
     "output_type": "stream",
     "text": [
      "  (0, 0)\t1.0\n",
      "  (7, 1)\t1.0\n",
      "  (2, 4)\t1.0\n",
      "  (5, 7)\t1.0\n",
      "  (6, 7)\t1.0\n",
      "  (6, 8)\t1.0\n",
      "  (6, 9)\t1.0\n"
     ]
    }
   ],
   "source": [
    "print(csc_matrix(z))"
   ]
  },
  {
   "cell_type": "code",
   "execution_count": 205,
   "id": "a8197b04",
   "metadata": {},
   "outputs": [],
   "source": [
    "m1 = np.array([1,2,3,4])\n",
    "m2 = np.array([1,2,0,4])"
   ]
  },
  {
   "cell_type": "code",
   "execution_count": 206,
   "id": "3d540eb0",
   "metadata": {},
   "outputs": [
    {
     "data": {
      "text/plain": [
       "array([ True,  True, False,  True])"
      ]
     },
     "execution_count": 206,
     "metadata": {},
     "output_type": "execute_result"
    }
   ],
   "source": [
    "m1 == m2 "
   ]
  },
  {
   "cell_type": "code",
   "execution_count": 209,
   "id": "30cf25a4",
   "metadata": {},
   "outputs": [
    {
     "data": {
      "text/plain": [
       "array([1, 2, 4])"
      ]
     },
     "execution_count": 209,
     "metadata": {},
     "output_type": "execute_result"
    }
   ],
   "source": [
    "m1[m1 == m2 ]"
   ]
  },
  {
   "cell_type": "code",
   "execution_count": null,
   "id": "1ea1c456",
   "metadata": {},
   "outputs": [],
   "source": []
  }
 ],
 "metadata": {
  "kernelspec": {
   "display_name": "Python 3 (ipykernel)",
   "language": "python",
   "name": "python3"
  },
  "language_info": {
   "codemirror_mode": {
    "name": "ipython",
    "version": 3
   },
   "file_extension": ".py",
   "mimetype": "text/x-python",
   "name": "python",
   "nbconvert_exporter": "python",
   "pygments_lexer": "ipython3",
   "version": "3.10.9"
  }
 },
 "nbformat": 4,
 "nbformat_minor": 5
}
